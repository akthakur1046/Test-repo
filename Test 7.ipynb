{
 "cells": [
  {
   "cell_type": "code",
   "execution_count": 1,
   "metadata": {},
   "outputs": [],
   "source": [
    "import pandas as pd\n",
    "import numpy as np"
   ]
  },
  {
   "cell_type": "code",
   "execution_count": 2,
   "metadata": {},
   "outputs": [
    {
     "data": {
      "text/html": [
       "<div>\n",
       "<style scoped>\n",
       "    .dataframe tbody tr th:only-of-type {\n",
       "        vertical-align: middle;\n",
       "    }\n",
       "\n",
       "    .dataframe tbody tr th {\n",
       "        vertical-align: top;\n",
       "    }\n",
       "\n",
       "    .dataframe thead th {\n",
       "        text-align: right;\n",
       "    }\n",
       "</style>\n",
       "<table border=\"1\" class=\"dataframe\">\n",
       "  <thead>\n",
       "    <tr style=\"text-align: right;\">\n",
       "      <th></th>\n",
       "      <th>Charge</th>\n",
       "      <th>Steel grade</th>\n",
       "      <th>% C before tapping</th>\n",
       "      <th>% SI before tapping</th>\n",
       "      <th>% AL_T before tapping</th>\n",
       "      <th>% AL_L before tapping</th>\n",
       "      <th>Diff % Al before tapping</th>\n",
       "      <th>FeSi added (kg) at EAF</th>\n",
       "      <th>Al added (kg) at EAF</th>\n",
       "      <th>% C after tapping</th>\n",
       "      <th>...</th>\n",
       "      <th>Kalk added (kg) at LF</th>\n",
       "      <th>Alumet added (kg) at LF</th>\n",
       "      <th>Al added (kg) at LF</th>\n",
       "      <th>FeSi added (kg) at LF</th>\n",
       "      <th>C added (kg) at LF</th>\n",
       "      <th>% C after degassing</th>\n",
       "      <th>% SI after degassing</th>\n",
       "      <th>% AL_T after degassing</th>\n",
       "      <th>% AL_L after degassing</th>\n",
       "      <th>Diff % Al after degassing</th>\n",
       "    </tr>\n",
       "  </thead>\n",
       "  <tbody>\n",
       "    <tr>\n",
       "      <th>0</th>\n",
       "      <td>D7531</td>\n",
       "      <td>803P</td>\n",
       "      <td>0.25</td>\n",
       "      <td>0.01</td>\n",
       "      <td>0.146</td>\n",
       "      <td>0.132</td>\n",
       "      <td>1.4</td>\n",
       "      <td>668</td>\n",
       "      <td>218</td>\n",
       "      <td>0.19</td>\n",
       "      <td>...</td>\n",
       "      <td>1707</td>\n",
       "      <td>1074</td>\n",
       "      <td>19</td>\n",
       "      <td>113</td>\n",
       "      <td>1209</td>\n",
       "      <td>1.000</td>\n",
       "      <td>0.24</td>\n",
       "      <td>0.040</td>\n",
       "      <td>0.041</td>\n",
       "      <td>-0.1</td>\n",
       "    </tr>\n",
       "    <tr>\n",
       "      <th>1</th>\n",
       "      <td>D7570</td>\n",
       "      <td>803P</td>\n",
       "      <td>0.15</td>\n",
       "      <td>0.01</td>\n",
       "      <td>0.118</td>\n",
       "      <td>0.086</td>\n",
       "      <td>3.2</td>\n",
       "      <td>346</td>\n",
       "      <td>102</td>\n",
       "      <td>0.12</td>\n",
       "      <td>...</td>\n",
       "      <td>658</td>\n",
       "      <td>361</td>\n",
       "      <td>27</td>\n",
       "      <td>28</td>\n",
       "      <td>814</td>\n",
       "      <td>1.000</td>\n",
       "      <td>0.26</td>\n",
       "      <td>0.049</td>\n",
       "      <td>0.047</td>\n",
       "      <td>0.2</td>\n",
       "    </tr>\n",
       "    <tr>\n",
       "      <th>2</th>\n",
       "      <td>D7579</td>\n",
       "      <td>803P</td>\n",
       "      <td>0.57</td>\n",
       "      <td>0.02</td>\n",
       "      <td>0.125</td>\n",
       "      <td>0.125</td>\n",
       "      <td>0.0</td>\n",
       "      <td>360</td>\n",
       "      <td>100</td>\n",
       "      <td>0.16</td>\n",
       "      <td>...</td>\n",
       "      <td>529</td>\n",
       "      <td>282</td>\n",
       "      <td>24</td>\n",
       "      <td>23</td>\n",
       "      <td>771</td>\n",
       "      <td>1.020</td>\n",
       "      <td>0.25</td>\n",
       "      <td>0.035</td>\n",
       "      <td>0.034</td>\n",
       "      <td>0.1</td>\n",
       "    </tr>\n",
       "    <tr>\n",
       "      <th>3</th>\n",
       "      <td>D7686</td>\n",
       "      <td>803P</td>\n",
       "      <td>0.16</td>\n",
       "      <td>0.01</td>\n",
       "      <td>0.071</td>\n",
       "      <td>0.060</td>\n",
       "      <td>1.1</td>\n",
       "      <td>350</td>\n",
       "      <td>96</td>\n",
       "      <td>0.07</td>\n",
       "      <td>...</td>\n",
       "      <td>446</td>\n",
       "      <td>299</td>\n",
       "      <td>63</td>\n",
       "      <td>59</td>\n",
       "      <td>877</td>\n",
       "      <td>1.000</td>\n",
       "      <td>0.25</td>\n",
       "      <td>0.033</td>\n",
       "      <td>0.030</td>\n",
       "      <td>0.3</td>\n",
       "    </tr>\n",
       "    <tr>\n",
       "      <th>4</th>\n",
       "      <td>D7712</td>\n",
       "      <td>803P</td>\n",
       "      <td>0.09</td>\n",
       "      <td>0.01</td>\n",
       "      <td>0.125</td>\n",
       "      <td>0.097</td>\n",
       "      <td>2.8</td>\n",
       "      <td>370</td>\n",
       "      <td>96</td>\n",
       "      <td>0.03</td>\n",
       "      <td>...</td>\n",
       "      <td>1146</td>\n",
       "      <td>764</td>\n",
       "      <td>105</td>\n",
       "      <td>42</td>\n",
       "      <td>878</td>\n",
       "      <td>1.015</td>\n",
       "      <td>0.23</td>\n",
       "      <td>0.019</td>\n",
       "      <td>0.018</td>\n",
       "      <td>0.1</td>\n",
       "    </tr>\n",
       "  </tbody>\n",
       "</table>\n",
       "<p>5 rows × 29 columns</p>\n",
       "</div>"
      ],
      "text/plain": [
       "  Charge Steel grade  % C before tapping  % SI before tapping  \\\n",
       "0  D7531        803P                0.25                 0.01   \n",
       "1  D7570        803P                0.15                 0.01   \n",
       "2  D7579        803P                0.57                 0.02   \n",
       "3  D7686        803P                0.16                 0.01   \n",
       "4  D7712        803P                0.09                 0.01   \n",
       "\n",
       "   % AL_T before tapping  % AL_L before tapping  Diff % Al before tapping  \\\n",
       "0                  0.146                  0.132                       1.4   \n",
       "1                  0.118                  0.086                       3.2   \n",
       "2                  0.125                  0.125                       0.0   \n",
       "3                  0.071                  0.060                       1.1   \n",
       "4                  0.125                  0.097                       2.8   \n",
       "\n",
       "   FeSi added (kg) at EAF  Al added (kg) at EAF  % C after tapping  ...  \\\n",
       "0                     668                   218               0.19  ...   \n",
       "1                     346                   102               0.12  ...   \n",
       "2                     360                   100               0.16  ...   \n",
       "3                     350                    96               0.07  ...   \n",
       "4                     370                    96               0.03  ...   \n",
       "\n",
       "   Kalk added (kg) at LF  Alumet added (kg) at LF  Al added (kg) at LF  \\\n",
       "0                   1707                     1074                   19   \n",
       "1                    658                      361                   27   \n",
       "2                    529                      282                   24   \n",
       "3                    446                      299                   63   \n",
       "4                   1146                      764                  105   \n",
       "\n",
       "   FeSi added (kg) at LF  C added (kg) at LF  % C after degassing  \\\n",
       "0                    113                1209                1.000   \n",
       "1                     28                 814                1.000   \n",
       "2                     23                 771                1.020   \n",
       "3                     59                 877                1.000   \n",
       "4                     42                 878                1.015   \n",
       "\n",
       "   % SI after degassing  % AL_T after degassing  % AL_L after degassing  \\\n",
       "0                  0.24                   0.040                   0.041   \n",
       "1                  0.26                   0.049                   0.047   \n",
       "2                  0.25                   0.035                   0.034   \n",
       "3                  0.25                   0.033                   0.030   \n",
       "4                  0.23                   0.019                   0.018   \n",
       "\n",
       "   Diff % Al after degassing  \n",
       "0                       -0.1  \n",
       "1                        0.2  \n",
       "2                        0.1  \n",
       "3                        0.3  \n",
       "4                        0.1  \n",
       "\n",
       "[5 rows x 29 columns]"
      ]
     },
     "execution_count": 2,
     "metadata": {},
     "output_type": "execute_result"
    }
   ],
   "source": [
    "path='C:/Users/Boeing/Downloads/Dataset.xlsx'\n",
    "df = pd.read_excel(path)\n",
    "df.head()"
   ]
  },
  {
   "cell_type": "code",
   "execution_count": 3,
   "metadata": {},
   "outputs": [],
   "source": [
    "%%capture\n",
    "! pip install seaborn"
   ]
  },
  {
   "cell_type": "code",
   "execution_count": 4,
   "metadata": {},
   "outputs": [],
   "source": [
    "import matplotlib.pyplot as plt\n",
    "import seaborn as sns\n",
    "%matplotlib inline "
   ]
  },
  {
   "cell_type": "code",
   "execution_count": 5,
   "metadata": {},
   "outputs": [
    {
     "name": "stdout",
     "output_type": "stream",
     "text": [
      "Charge                        object\n",
      "Steel grade                   object\n",
      "% C before tapping           float64\n",
      "% SI before tapping          float64\n",
      "% AL_T before tapping        float64\n",
      "% AL_L before tapping        float64\n",
      "Diff % Al before tapping     float64\n",
      "FeSi added (kg) at EAF         int64\n",
      "Al added (kg) at EAF           int64\n",
      "% C after tapping            float64\n",
      "% SI after tapping           float64\n",
      "% AL_T after tapping         float64\n",
      "% AL_L after tapping         float64\n",
      "Diff % Al after tapping      float64\n",
      "Slag wt (kg)                   int64\n",
      "Tap wt (kg)                    int64\n",
      "Ladle wt (kg)                  int64\n",
      "Wt before slagging (kg)        int64\n",
      "Wt after slagging (kg)         int64\n",
      "Kalk added (kg) at LF          int64\n",
      "Alumet added (kg) at LF        int64\n",
      "Al added (kg) at LF            int64\n",
      "FeSi added (kg) at LF          int64\n",
      "C added (kg) at LF             int64\n",
      "% C after degassing          float64\n",
      "% SI after degassing         float64\n",
      "% AL_T after degassing       float64\n",
      "% AL_L after degassing       float64\n",
      "Diff % Al after degassing    float64\n",
      "dtype: object\n"
     ]
    }
   ],
   "source": [
    "print(df.dtypes)"
   ]
  },
  {
   "cell_type": "code",
   "execution_count": 6,
   "metadata": {},
   "outputs": [
    {
     "data": {
      "text/html": [
       "<div>\n",
       "<style scoped>\n",
       "    .dataframe tbody tr th:only-of-type {\n",
       "        vertical-align: middle;\n",
       "    }\n",
       "\n",
       "    .dataframe tbody tr th {\n",
       "        vertical-align: top;\n",
       "    }\n",
       "\n",
       "    .dataframe thead th {\n",
       "        text-align: right;\n",
       "    }\n",
       "</style>\n",
       "<table border=\"1\" class=\"dataframe\">\n",
       "  <thead>\n",
       "    <tr style=\"text-align: right;\">\n",
       "      <th></th>\n",
       "      <th>% C before tapping</th>\n",
       "      <th>% SI before tapping</th>\n",
       "      <th>% AL_T before tapping</th>\n",
       "      <th>% AL_L before tapping</th>\n",
       "      <th>Diff % Al before tapping</th>\n",
       "      <th>FeSi added (kg) at EAF</th>\n",
       "      <th>Al added (kg) at EAF</th>\n",
       "      <th>% C after tapping</th>\n",
       "      <th>% SI after tapping</th>\n",
       "      <th>% AL_T after tapping</th>\n",
       "      <th>...</th>\n",
       "      <th>Kalk added (kg) at LF</th>\n",
       "      <th>Alumet added (kg) at LF</th>\n",
       "      <th>Al added (kg) at LF</th>\n",
       "      <th>FeSi added (kg) at LF</th>\n",
       "      <th>C added (kg) at LF</th>\n",
       "      <th>% C after degassing</th>\n",
       "      <th>% SI after degassing</th>\n",
       "      <th>% AL_T after degassing</th>\n",
       "      <th>% AL_L after degassing</th>\n",
       "      <th>Diff % Al after degassing</th>\n",
       "    </tr>\n",
       "  </thead>\n",
       "  <tbody>\n",
       "    <tr>\n",
       "      <th>% C before tapping</th>\n",
       "      <td>1.000000</td>\n",
       "      <td>0.308014</td>\n",
       "      <td>0.041179</td>\n",
       "      <td>0.105818</td>\n",
       "      <td>-0.346647</td>\n",
       "      <td>0.039652</td>\n",
       "      <td>-0.503637</td>\n",
       "      <td>0.650649</td>\n",
       "      <td>-0.082038</td>\n",
       "      <td>-0.021556</td>\n",
       "      <td>...</td>\n",
       "      <td>0.089166</td>\n",
       "      <td>0.085898</td>\n",
       "      <td>-0.256593</td>\n",
       "      <td>-0.009708</td>\n",
       "      <td>-0.583679</td>\n",
       "      <td>0.046876</td>\n",
       "      <td>-0.000268</td>\n",
       "      <td>-0.034913</td>\n",
       "      <td>-0.083027</td>\n",
       "      <td>0.144301</td>\n",
       "    </tr>\n",
       "    <tr>\n",
       "      <th>% SI before tapping</th>\n",
       "      <td>0.308014</td>\n",
       "      <td>1.000000</td>\n",
       "      <td>0.013846</td>\n",
       "      <td>0.018437</td>\n",
       "      <td>-0.023054</td>\n",
       "      <td>-0.014414</td>\n",
       "      <td>-0.088164</td>\n",
       "      <td>0.164595</td>\n",
       "      <td>-0.029026</td>\n",
       "      <td>0.028335</td>\n",
       "      <td>...</td>\n",
       "      <td>-0.009034</td>\n",
       "      <td>-0.010563</td>\n",
       "      <td>-0.079802</td>\n",
       "      <td>0.016093</td>\n",
       "      <td>-0.142817</td>\n",
       "      <td>-0.001317</td>\n",
       "      <td>-0.009711</td>\n",
       "      <td>-0.012941</td>\n",
       "      <td>-0.012412</td>\n",
       "      <td>-0.002177</td>\n",
       "    </tr>\n",
       "    <tr>\n",
       "      <th>% AL_T before tapping</th>\n",
       "      <td>0.041179</td>\n",
       "      <td>0.013846</td>\n",
       "      <td>1.000000</td>\n",
       "      <td>0.983957</td>\n",
       "      <td>0.230627</td>\n",
       "      <td>-0.005442</td>\n",
       "      <td>-0.067978</td>\n",
       "      <td>0.113173</td>\n",
       "      <td>-0.000684</td>\n",
       "      <td>0.054355</td>\n",
       "      <td>...</td>\n",
       "      <td>0.061737</td>\n",
       "      <td>0.058462</td>\n",
       "      <td>-0.106094</td>\n",
       "      <td>-0.006281</td>\n",
       "      <td>-0.104302</td>\n",
       "      <td>0.007827</td>\n",
       "      <td>0.033215</td>\n",
       "      <td>0.006059</td>\n",
       "      <td>0.010682</td>\n",
       "      <td>-0.013744</td>\n",
       "    </tr>\n",
       "    <tr>\n",
       "      <th>% AL_L before tapping</th>\n",
       "      <td>0.105818</td>\n",
       "      <td>0.018437</td>\n",
       "      <td>0.983957</td>\n",
       "      <td>1.000000</td>\n",
       "      <td>0.053329</td>\n",
       "      <td>-0.007502</td>\n",
       "      <td>-0.147894</td>\n",
       "      <td>0.172050</td>\n",
       "      <td>-0.014118</td>\n",
       "      <td>0.044951</td>\n",
       "      <td>...</td>\n",
       "      <td>0.074909</td>\n",
       "      <td>0.073404</td>\n",
       "      <td>-0.138001</td>\n",
       "      <td>-0.005165</td>\n",
       "      <td>-0.150147</td>\n",
       "      <td>0.014193</td>\n",
       "      <td>0.028360</td>\n",
       "      <td>-0.001003</td>\n",
       "      <td>0.003352</td>\n",
       "      <td>-0.013246</td>\n",
       "    </tr>\n",
       "    <tr>\n",
       "      <th>Diff % Al before tapping</th>\n",
       "      <td>-0.346647</td>\n",
       "      <td>-0.023054</td>\n",
       "      <td>0.230627</td>\n",
       "      <td>0.053329</td>\n",
       "      <td>1.000000</td>\n",
       "      <td>0.010453</td>\n",
       "      <td>0.426131</td>\n",
       "      <td>-0.304921</td>\n",
       "      <td>0.073169</td>\n",
       "      <td>0.059069</td>\n",
       "      <td>...</td>\n",
       "      <td>-0.063007</td>\n",
       "      <td>-0.073125</td>\n",
       "      <td>0.158837</td>\n",
       "      <td>-0.006988</td>\n",
       "      <td>0.235112</td>\n",
       "      <td>-0.033596</td>\n",
       "      <td>0.031235</td>\n",
       "      <td>0.039381</td>\n",
       "      <td>0.041503</td>\n",
       "      <td>-0.004685</td>\n",
       "    </tr>\n",
       "    <tr>\n",
       "      <th>FeSi added (kg) at EAF</th>\n",
       "      <td>0.039652</td>\n",
       "      <td>-0.014414</td>\n",
       "      <td>-0.005442</td>\n",
       "      <td>-0.007502</td>\n",
       "      <td>0.010453</td>\n",
       "      <td>1.000000</td>\n",
       "      <td>0.088593</td>\n",
       "      <td>-0.000539</td>\n",
       "      <td>0.448541</td>\n",
       "      <td>-0.047730</td>\n",
       "      <td>...</td>\n",
       "      <td>0.148137</td>\n",
       "      <td>0.168374</td>\n",
       "      <td>0.060982</td>\n",
       "      <td>-0.393635</td>\n",
       "      <td>0.063564</td>\n",
       "      <td>0.038851</td>\n",
       "      <td>0.126848</td>\n",
       "      <td>-0.017817</td>\n",
       "      <td>-0.038742</td>\n",
       "      <td>0.062641</td>\n",
       "    </tr>\n",
       "    <tr>\n",
       "      <th>Al added (kg) at EAF</th>\n",
       "      <td>-0.503637</td>\n",
       "      <td>-0.088164</td>\n",
       "      <td>-0.067978</td>\n",
       "      <td>-0.147894</td>\n",
       "      <td>0.426131</td>\n",
       "      <td>0.088593</td>\n",
       "      <td>1.000000</td>\n",
       "      <td>-0.543142</td>\n",
       "      <td>0.047323</td>\n",
       "      <td>0.304632</td>\n",
       "      <td>...</td>\n",
       "      <td>-0.067953</td>\n",
       "      <td>-0.054425</td>\n",
       "      <td>0.098003</td>\n",
       "      <td>0.058071</td>\n",
       "      <td>0.508767</td>\n",
       "      <td>-0.024329</td>\n",
       "      <td>-0.001593</td>\n",
       "      <td>0.036309</td>\n",
       "      <td>0.072334</td>\n",
       "      <td>-0.107591</td>\n",
       "    </tr>\n",
       "    <tr>\n",
       "      <th>% C after tapping</th>\n",
       "      <td>0.650649</td>\n",
       "      <td>0.164595</td>\n",
       "      <td>0.113173</td>\n",
       "      <td>0.172050</td>\n",
       "      <td>-0.304921</td>\n",
       "      <td>-0.000539</td>\n",
       "      <td>-0.543142</td>\n",
       "      <td>1.000000</td>\n",
       "      <td>-0.075372</td>\n",
       "      <td>0.134491</td>\n",
       "      <td>...</td>\n",
       "      <td>0.117827</td>\n",
       "      <td>0.134275</td>\n",
       "      <td>-0.450949</td>\n",
       "      <td>-0.016195</td>\n",
       "      <td>-0.825691</td>\n",
       "      <td>0.029740</td>\n",
       "      <td>-0.014148</td>\n",
       "      <td>-0.023546</td>\n",
       "      <td>-0.054868</td>\n",
       "      <td>0.093904</td>\n",
       "    </tr>\n",
       "    <tr>\n",
       "      <th>% SI after tapping</th>\n",
       "      <td>-0.082038</td>\n",
       "      <td>-0.029026</td>\n",
       "      <td>-0.000684</td>\n",
       "      <td>-0.014118</td>\n",
       "      <td>0.073169</td>\n",
       "      <td>0.448541</td>\n",
       "      <td>0.047323</td>\n",
       "      <td>-0.075372</td>\n",
       "      <td>1.000000</td>\n",
       "      <td>0.214237</td>\n",
       "      <td>...</td>\n",
       "      <td>0.006294</td>\n",
       "      <td>0.007586</td>\n",
       "      <td>-0.115333</td>\n",
       "      <td>-0.827142</td>\n",
       "      <td>0.042885</td>\n",
       "      <td>0.025475</td>\n",
       "      <td>0.083334</td>\n",
       "      <td>0.018866</td>\n",
       "      <td>0.034289</td>\n",
       "      <td>-0.045912</td>\n",
       "    </tr>\n",
       "    <tr>\n",
       "      <th>% AL_T after tapping</th>\n",
       "      <td>-0.021556</td>\n",
       "      <td>0.028335</td>\n",
       "      <td>0.054355</td>\n",
       "      <td>0.044951</td>\n",
       "      <td>0.059069</td>\n",
       "      <td>-0.047730</td>\n",
       "      <td>0.304632</td>\n",
       "      <td>0.134491</td>\n",
       "      <td>0.214237</td>\n",
       "      <td>1.000000</td>\n",
       "      <td>...</td>\n",
       "      <td>0.023708</td>\n",
       "      <td>0.028924</td>\n",
       "      <td>-0.702817</td>\n",
       "      <td>-0.167543</td>\n",
       "      <td>-0.102646</td>\n",
       "      <td>-0.023889</td>\n",
       "      <td>-0.049191</td>\n",
       "      <td>0.093425</td>\n",
       "      <td>0.099635</td>\n",
       "      <td>-0.014679</td>\n",
       "    </tr>\n",
       "    <tr>\n",
       "      <th>% AL_L after tapping</th>\n",
       "      <td>0.098572</td>\n",
       "      <td>0.060361</td>\n",
       "      <td>0.066950</td>\n",
       "      <td>0.081735</td>\n",
       "      <td>-0.071055</td>\n",
       "      <td>-0.027351</td>\n",
       "      <td>0.135208</td>\n",
       "      <td>0.316417</td>\n",
       "      <td>0.183676</td>\n",
       "      <td>0.893414</td>\n",
       "      <td>...</td>\n",
       "      <td>0.058727</td>\n",
       "      <td>0.078521</td>\n",
       "      <td>-0.762616</td>\n",
       "      <td>-0.190200</td>\n",
       "      <td>-0.253403</td>\n",
       "      <td>-0.025948</td>\n",
       "      <td>-0.061233</td>\n",
       "      <td>0.127563</td>\n",
       "      <td>0.133183</td>\n",
       "      <td>-0.011379</td>\n",
       "    </tr>\n",
       "    <tr>\n",
       "      <th>Diff % Al after tapping</th>\n",
       "      <td>-0.240328</td>\n",
       "      <td>-0.054769</td>\n",
       "      <td>-0.009745</td>\n",
       "      <td>-0.059519</td>\n",
       "      <td>0.270077</td>\n",
       "      <td>-0.052801</td>\n",
       "      <td>0.413803</td>\n",
       "      <td>-0.318341</td>\n",
       "      <td>0.118121</td>\n",
       "      <td>0.480969</td>\n",
       "      <td>...</td>\n",
       "      <td>-0.061872</td>\n",
       "      <td>-0.088900</td>\n",
       "      <td>-0.075130</td>\n",
       "      <td>-0.001515</td>\n",
       "      <td>0.266204</td>\n",
       "      <td>-0.002502</td>\n",
       "      <td>0.010076</td>\n",
       "      <td>-0.041123</td>\n",
       "      <td>-0.038279</td>\n",
       "      <td>-0.010447</td>\n",
       "    </tr>\n",
       "    <tr>\n",
       "      <th>Slag wt (kg)</th>\n",
       "      <td>-0.584757</td>\n",
       "      <td>-0.101779</td>\n",
       "      <td>-0.082445</td>\n",
       "      <td>-0.180070</td>\n",
       "      <td>0.520651</td>\n",
       "      <td>-0.034784</td>\n",
       "      <td>0.725649</td>\n",
       "      <td>-0.562223</td>\n",
       "      <td>0.025670</td>\n",
       "      <td>0.049873</td>\n",
       "      <td>...</td>\n",
       "      <td>-0.108789</td>\n",
       "      <td>-0.095773</td>\n",
       "      <td>0.297755</td>\n",
       "      <td>0.091242</td>\n",
       "      <td>0.452160</td>\n",
       "      <td>-0.038458</td>\n",
       "      <td>-0.038035</td>\n",
       "      <td>-0.020326</td>\n",
       "      <td>0.008541</td>\n",
       "      <td>-0.088407</td>\n",
       "    </tr>\n",
       "    <tr>\n",
       "      <th>Tap wt (kg)</th>\n",
       "      <td>0.070422</td>\n",
       "      <td>0.043745</td>\n",
       "      <td>0.022462</td>\n",
       "      <td>0.037004</td>\n",
       "      <td>-0.076096</td>\n",
       "      <td>-0.295265</td>\n",
       "      <td>0.030704</td>\n",
       "      <td>0.078061</td>\n",
       "      <td>-0.263348</td>\n",
       "      <td>0.048065</td>\n",
       "      <td>...</td>\n",
       "      <td>-0.130377</td>\n",
       "      <td>-0.091743</td>\n",
       "      <td>-0.025619</td>\n",
       "      <td>0.286997</td>\n",
       "      <td>-0.003490</td>\n",
       "      <td>-0.063459</td>\n",
       "      <td>-0.115487</td>\n",
       "      <td>0.016729</td>\n",
       "      <td>0.070280</td>\n",
       "      <td>-0.161587</td>\n",
       "    </tr>\n",
       "    <tr>\n",
       "      <th>Ladle wt (kg)</th>\n",
       "      <td>-0.028719</td>\n",
       "      <td>0.009046</td>\n",
       "      <td>-0.001848</td>\n",
       "      <td>-0.002241</td>\n",
       "      <td>0.001881</td>\n",
       "      <td>0.001865</td>\n",
       "      <td>0.033618</td>\n",
       "      <td>-0.025101</td>\n",
       "      <td>0.018033</td>\n",
       "      <td>0.015681</td>\n",
       "      <td>...</td>\n",
       "      <td>-0.032400</td>\n",
       "      <td>-0.064588</td>\n",
       "      <td>0.001344</td>\n",
       "      <td>-0.009550</td>\n",
       "      <td>0.022736</td>\n",
       "      <td>0.004749</td>\n",
       "      <td>-0.029247</td>\n",
       "      <td>0.036818</td>\n",
       "      <td>0.042701</td>\n",
       "      <td>-0.016198</td>\n",
       "    </tr>\n",
       "    <tr>\n",
       "      <th>Wt before slagging (kg)</th>\n",
       "      <td>-0.048878</td>\n",
       "      <td>0.029148</td>\n",
       "      <td>0.003902</td>\n",
       "      <td>0.001810</td>\n",
       "      <td>0.011968</td>\n",
       "      <td>-0.048080</td>\n",
       "      <td>0.043550</td>\n",
       "      <td>0.021718</td>\n",
       "      <td>-0.082146</td>\n",
       "      <td>-0.004824</td>\n",
       "      <td>...</td>\n",
       "      <td>-0.051022</td>\n",
       "      <td>-0.050555</td>\n",
       "      <td>0.033081</td>\n",
       "      <td>0.135138</td>\n",
       "      <td>0.085730</td>\n",
       "      <td>-0.034388</td>\n",
       "      <td>-0.038940</td>\n",
       "      <td>0.024236</td>\n",
       "      <td>0.036919</td>\n",
       "      <td>-0.037369</td>\n",
       "    </tr>\n",
       "    <tr>\n",
       "      <th>Wt after slagging (kg)</th>\n",
       "      <td>-0.007271</td>\n",
       "      <td>0.017304</td>\n",
       "      <td>-0.024427</td>\n",
       "      <td>-0.022954</td>\n",
       "      <td>-0.011532</td>\n",
       "      <td>-0.022267</td>\n",
       "      <td>-0.023266</td>\n",
       "      <td>0.012019</td>\n",
       "      <td>-0.010156</td>\n",
       "      <td>-0.034826</td>\n",
       "      <td>...</td>\n",
       "      <td>0.014713</td>\n",
       "      <td>0.017804</td>\n",
       "      <td>0.026651</td>\n",
       "      <td>0.032263</td>\n",
       "      <td>0.004343</td>\n",
       "      <td>-0.010617</td>\n",
       "      <td>-0.007828</td>\n",
       "      <td>0.042385</td>\n",
       "      <td>0.067020</td>\n",
       "      <td>-0.072795</td>\n",
       "    </tr>\n",
       "    <tr>\n",
       "      <th>Kalk added (kg) at LF</th>\n",
       "      <td>0.089166</td>\n",
       "      <td>-0.009034</td>\n",
       "      <td>0.061737</td>\n",
       "      <td>0.074909</td>\n",
       "      <td>-0.063007</td>\n",
       "      <td>0.148137</td>\n",
       "      <td>-0.067953</td>\n",
       "      <td>0.117827</td>\n",
       "      <td>0.006294</td>\n",
       "      <td>0.023708</td>\n",
       "      <td>...</td>\n",
       "      <td>1.000000</td>\n",
       "      <td>0.817696</td>\n",
       "      <td>-0.065508</td>\n",
       "      <td>0.011341</td>\n",
       "      <td>-0.073036</td>\n",
       "      <td>0.018353</td>\n",
       "      <td>0.036062</td>\n",
       "      <td>-0.087441</td>\n",
       "      <td>-0.115000</td>\n",
       "      <td>0.079662</td>\n",
       "    </tr>\n",
       "    <tr>\n",
       "      <th>Alumet added (kg) at LF</th>\n",
       "      <td>0.085898</td>\n",
       "      <td>-0.010563</td>\n",
       "      <td>0.058462</td>\n",
       "      <td>0.073404</td>\n",
       "      <td>-0.073125</td>\n",
       "      <td>0.168374</td>\n",
       "      <td>-0.054425</td>\n",
       "      <td>0.134275</td>\n",
       "      <td>0.007586</td>\n",
       "      <td>0.028924</td>\n",
       "      <td>...</td>\n",
       "      <td>0.817696</td>\n",
       "      <td>1.000000</td>\n",
       "      <td>-0.074343</td>\n",
       "      <td>-0.005664</td>\n",
       "      <td>-0.094758</td>\n",
       "      <td>0.025834</td>\n",
       "      <td>0.039376</td>\n",
       "      <td>-0.107933</td>\n",
       "      <td>-0.127757</td>\n",
       "      <td>0.055305</td>\n",
       "    </tr>\n",
       "    <tr>\n",
       "      <th>Al added (kg) at LF</th>\n",
       "      <td>-0.256593</td>\n",
       "      <td>-0.079802</td>\n",
       "      <td>-0.106094</td>\n",
       "      <td>-0.138001</td>\n",
       "      <td>0.158837</td>\n",
       "      <td>0.060982</td>\n",
       "      <td>0.098003</td>\n",
       "      <td>-0.450949</td>\n",
       "      <td>-0.115333</td>\n",
       "      <td>-0.702817</td>\n",
       "      <td>...</td>\n",
       "      <td>-0.065508</td>\n",
       "      <td>-0.074343</td>\n",
       "      <td>1.000000</td>\n",
       "      <td>0.273046</td>\n",
       "      <td>0.437884</td>\n",
       "      <td>0.008993</td>\n",
       "      <td>0.041213</td>\n",
       "      <td>-0.149716</td>\n",
       "      <td>-0.123437</td>\n",
       "      <td>-0.086300</td>\n",
       "    </tr>\n",
       "    <tr>\n",
       "      <th>FeSi added (kg) at LF</th>\n",
       "      <td>-0.009708</td>\n",
       "      <td>0.016093</td>\n",
       "      <td>-0.006281</td>\n",
       "      <td>-0.005165</td>\n",
       "      <td>-0.006988</td>\n",
       "      <td>-0.393635</td>\n",
       "      <td>0.058071</td>\n",
       "      <td>-0.016195</td>\n",
       "      <td>-0.827142</td>\n",
       "      <td>-0.167543</td>\n",
       "      <td>...</td>\n",
       "      <td>0.011341</td>\n",
       "      <td>-0.005664</td>\n",
       "      <td>0.273046</td>\n",
       "      <td>1.000000</td>\n",
       "      <td>0.066045</td>\n",
       "      <td>-0.026211</td>\n",
       "      <td>0.005094</td>\n",
       "      <td>-0.072589</td>\n",
       "      <td>-0.056816</td>\n",
       "      <td>-0.051032</td>\n",
       "    </tr>\n",
       "    <tr>\n",
       "      <th>C added (kg) at LF</th>\n",
       "      <td>-0.583679</td>\n",
       "      <td>-0.142817</td>\n",
       "      <td>-0.104302</td>\n",
       "      <td>-0.150147</td>\n",
       "      <td>0.235112</td>\n",
       "      <td>0.063564</td>\n",
       "      <td>0.508767</td>\n",
       "      <td>-0.825691</td>\n",
       "      <td>0.042885</td>\n",
       "      <td>-0.102646</td>\n",
       "      <td>...</td>\n",
       "      <td>-0.073036</td>\n",
       "      <td>-0.094758</td>\n",
       "      <td>0.437884</td>\n",
       "      <td>0.066045</td>\n",
       "      <td>1.000000</td>\n",
       "      <td>-0.035072</td>\n",
       "      <td>0.036000</td>\n",
       "      <td>0.023361</td>\n",
       "      <td>0.060676</td>\n",
       "      <td>-0.112078</td>\n",
       "    </tr>\n",
       "    <tr>\n",
       "      <th>% C after degassing</th>\n",
       "      <td>0.046876</td>\n",
       "      <td>-0.001317</td>\n",
       "      <td>0.007827</td>\n",
       "      <td>0.014193</td>\n",
       "      <td>-0.033596</td>\n",
       "      <td>0.038851</td>\n",
       "      <td>-0.024329</td>\n",
       "      <td>0.029740</td>\n",
       "      <td>0.025475</td>\n",
       "      <td>-0.023889</td>\n",
       "      <td>...</td>\n",
       "      <td>0.018353</td>\n",
       "      <td>0.025834</td>\n",
       "      <td>0.008993</td>\n",
       "      <td>-0.026211</td>\n",
       "      <td>-0.035072</td>\n",
       "      <td>1.000000</td>\n",
       "      <td>0.434742</td>\n",
       "      <td>-0.333223</td>\n",
       "      <td>-0.184424</td>\n",
       "      <td>-0.465835</td>\n",
       "    </tr>\n",
       "    <tr>\n",
       "      <th>% SI after degassing</th>\n",
       "      <td>-0.000268</td>\n",
       "      <td>-0.009711</td>\n",
       "      <td>0.033215</td>\n",
       "      <td>0.028360</td>\n",
       "      <td>0.031235</td>\n",
       "      <td>0.126848</td>\n",
       "      <td>-0.001593</td>\n",
       "      <td>-0.014148</td>\n",
       "      <td>0.083334</td>\n",
       "      <td>-0.049191</td>\n",
       "      <td>...</td>\n",
       "      <td>0.036062</td>\n",
       "      <td>0.039376</td>\n",
       "      <td>0.041213</td>\n",
       "      <td>0.005094</td>\n",
       "      <td>0.036000</td>\n",
       "      <td>0.434742</td>\n",
       "      <td>1.000000</td>\n",
       "      <td>0.104037</td>\n",
       "      <td>0.176658</td>\n",
       "      <td>-0.215520</td>\n",
       "    </tr>\n",
       "    <tr>\n",
       "      <th>% AL_T after degassing</th>\n",
       "      <td>-0.034913</td>\n",
       "      <td>-0.012941</td>\n",
       "      <td>0.006059</td>\n",
       "      <td>-0.001003</td>\n",
       "      <td>0.039381</td>\n",
       "      <td>-0.017817</td>\n",
       "      <td>0.036309</td>\n",
       "      <td>-0.023546</td>\n",
       "      <td>0.018866</td>\n",
       "      <td>0.093425</td>\n",
       "      <td>...</td>\n",
       "      <td>-0.087441</td>\n",
       "      <td>-0.107933</td>\n",
       "      <td>-0.149716</td>\n",
       "      <td>-0.072589</td>\n",
       "      <td>0.023361</td>\n",
       "      <td>-0.333223</td>\n",
       "      <td>0.104037</td>\n",
       "      <td>1.000000</td>\n",
       "      <td>0.946476</td>\n",
       "      <td>0.206609</td>\n",
       "    </tr>\n",
       "    <tr>\n",
       "      <th>% AL_L after degassing</th>\n",
       "      <td>-0.083027</td>\n",
       "      <td>-0.012412</td>\n",
       "      <td>0.010682</td>\n",
       "      <td>0.003352</td>\n",
       "      <td>0.041503</td>\n",
       "      <td>-0.038742</td>\n",
       "      <td>0.072334</td>\n",
       "      <td>-0.054868</td>\n",
       "      <td>0.034289</td>\n",
       "      <td>0.099635</td>\n",
       "      <td>...</td>\n",
       "      <td>-0.115000</td>\n",
       "      <td>-0.127757</td>\n",
       "      <td>-0.123437</td>\n",
       "      <td>-0.056816</td>\n",
       "      <td>0.060676</td>\n",
       "      <td>-0.184424</td>\n",
       "      <td>0.176658</td>\n",
       "      <td>0.946476</td>\n",
       "      <td>1.000000</td>\n",
       "      <td>-0.120259</td>\n",
       "    </tr>\n",
       "    <tr>\n",
       "      <th>Diff % Al after degassing</th>\n",
       "      <td>0.144301</td>\n",
       "      <td>-0.002177</td>\n",
       "      <td>-0.013744</td>\n",
       "      <td>-0.013246</td>\n",
       "      <td>-0.004685</td>\n",
       "      <td>0.062641</td>\n",
       "      <td>-0.107591</td>\n",
       "      <td>0.093904</td>\n",
       "      <td>-0.045912</td>\n",
       "      <td>-0.014679</td>\n",
       "      <td>...</td>\n",
       "      <td>0.079662</td>\n",
       "      <td>0.055305</td>\n",
       "      <td>-0.086300</td>\n",
       "      <td>-0.051032</td>\n",
       "      <td>-0.112078</td>\n",
       "      <td>-0.465835</td>\n",
       "      <td>-0.215520</td>\n",
       "      <td>0.206609</td>\n",
       "      <td>-0.120259</td>\n",
       "      <td>1.000000</td>\n",
       "    </tr>\n",
       "  </tbody>\n",
       "</table>\n",
       "<p>27 rows × 27 columns</p>\n",
       "</div>"
      ],
      "text/plain": [
       "                           % C before tapping  % SI before tapping  \\\n",
       "% C before tapping                   1.000000             0.308014   \n",
       "% SI before tapping                  0.308014             1.000000   \n",
       "% AL_T before tapping                0.041179             0.013846   \n",
       "% AL_L before tapping                0.105818             0.018437   \n",
       "Diff % Al before tapping            -0.346647            -0.023054   \n",
       "FeSi added (kg) at EAF               0.039652            -0.014414   \n",
       "Al added (kg) at EAF                -0.503637            -0.088164   \n",
       "% C after tapping                    0.650649             0.164595   \n",
       "% SI after tapping                  -0.082038            -0.029026   \n",
       "% AL_T after tapping                -0.021556             0.028335   \n",
       "% AL_L after tapping                 0.098572             0.060361   \n",
       "Diff % Al after tapping             -0.240328            -0.054769   \n",
       "Slag wt (kg)                        -0.584757            -0.101779   \n",
       "Tap wt (kg)                          0.070422             0.043745   \n",
       "Ladle wt (kg)                       -0.028719             0.009046   \n",
       "Wt before slagging (kg)             -0.048878             0.029148   \n",
       "Wt after slagging (kg)              -0.007271             0.017304   \n",
       "Kalk added (kg) at LF                0.089166            -0.009034   \n",
       "Alumet added (kg) at LF              0.085898            -0.010563   \n",
       "Al added (kg) at LF                 -0.256593            -0.079802   \n",
       "FeSi added (kg) at LF               -0.009708             0.016093   \n",
       "C added (kg) at LF                  -0.583679            -0.142817   \n",
       "% C after degassing                  0.046876            -0.001317   \n",
       "% SI after degassing                -0.000268            -0.009711   \n",
       "% AL_T after degassing              -0.034913            -0.012941   \n",
       "% AL_L after degassing              -0.083027            -0.012412   \n",
       "Diff % Al after degassing            0.144301            -0.002177   \n",
       "\n",
       "                           % AL_T before tapping  % AL_L before tapping  \\\n",
       "% C before tapping                      0.041179               0.105818   \n",
       "% SI before tapping                     0.013846               0.018437   \n",
       "% AL_T before tapping                   1.000000               0.983957   \n",
       "% AL_L before tapping                   0.983957               1.000000   \n",
       "Diff % Al before tapping                0.230627               0.053329   \n",
       "FeSi added (kg) at EAF                 -0.005442              -0.007502   \n",
       "Al added (kg) at EAF                   -0.067978              -0.147894   \n",
       "% C after tapping                       0.113173               0.172050   \n",
       "% SI after tapping                     -0.000684              -0.014118   \n",
       "% AL_T after tapping                    0.054355               0.044951   \n",
       "% AL_L after tapping                    0.066950               0.081735   \n",
       "Diff % Al after tapping                -0.009745              -0.059519   \n",
       "Slag wt (kg)                           -0.082445              -0.180070   \n",
       "Tap wt (kg)                             0.022462               0.037004   \n",
       "Ladle wt (kg)                          -0.001848              -0.002241   \n",
       "Wt before slagging (kg)                 0.003902               0.001810   \n",
       "Wt after slagging (kg)                 -0.024427              -0.022954   \n",
       "Kalk added (kg) at LF                   0.061737               0.074909   \n",
       "Alumet added (kg) at LF                 0.058462               0.073404   \n",
       "Al added (kg) at LF                    -0.106094              -0.138001   \n",
       "FeSi added (kg) at LF                  -0.006281              -0.005165   \n",
       "C added (kg) at LF                     -0.104302              -0.150147   \n",
       "% C after degassing                     0.007827               0.014193   \n",
       "% SI after degassing                    0.033215               0.028360   \n",
       "% AL_T after degassing                  0.006059              -0.001003   \n",
       "% AL_L after degassing                  0.010682               0.003352   \n",
       "Diff % Al after degassing              -0.013744              -0.013246   \n",
       "\n",
       "                           Diff % Al before tapping  FeSi added (kg) at EAF  \\\n",
       "% C before tapping                        -0.346647                0.039652   \n",
       "% SI before tapping                       -0.023054               -0.014414   \n",
       "% AL_T before tapping                      0.230627               -0.005442   \n",
       "% AL_L before tapping                      0.053329               -0.007502   \n",
       "Diff % Al before tapping                   1.000000                0.010453   \n",
       "FeSi added (kg) at EAF                     0.010453                1.000000   \n",
       "Al added (kg) at EAF                       0.426131                0.088593   \n",
       "% C after tapping                         -0.304921               -0.000539   \n",
       "% SI after tapping                         0.073169                0.448541   \n",
       "% AL_T after tapping                       0.059069               -0.047730   \n",
       "% AL_L after tapping                      -0.071055               -0.027351   \n",
       "Diff % Al after tapping                    0.270077               -0.052801   \n",
       "Slag wt (kg)                               0.520651               -0.034784   \n",
       "Tap wt (kg)                               -0.076096               -0.295265   \n",
       "Ladle wt (kg)                              0.001881                0.001865   \n",
       "Wt before slagging (kg)                    0.011968               -0.048080   \n",
       "Wt after slagging (kg)                    -0.011532               -0.022267   \n",
       "Kalk added (kg) at LF                     -0.063007                0.148137   \n",
       "Alumet added (kg) at LF                   -0.073125                0.168374   \n",
       "Al added (kg) at LF                        0.158837                0.060982   \n",
       "FeSi added (kg) at LF                     -0.006988               -0.393635   \n",
       "C added (kg) at LF                         0.235112                0.063564   \n",
       "% C after degassing                       -0.033596                0.038851   \n",
       "% SI after degassing                       0.031235                0.126848   \n",
       "% AL_T after degassing                     0.039381               -0.017817   \n",
       "% AL_L after degassing                     0.041503               -0.038742   \n",
       "Diff % Al after degassing                 -0.004685                0.062641   \n",
       "\n",
       "                           Al added (kg) at EAF  % C after tapping  \\\n",
       "% C before tapping                    -0.503637           0.650649   \n",
       "% SI before tapping                   -0.088164           0.164595   \n",
       "% AL_T before tapping                 -0.067978           0.113173   \n",
       "% AL_L before tapping                 -0.147894           0.172050   \n",
       "Diff % Al before tapping               0.426131          -0.304921   \n",
       "FeSi added (kg) at EAF                 0.088593          -0.000539   \n",
       "Al added (kg) at EAF                   1.000000          -0.543142   \n",
       "% C after tapping                     -0.543142           1.000000   \n",
       "% SI after tapping                     0.047323          -0.075372   \n",
       "% AL_T after tapping                   0.304632           0.134491   \n",
       "% AL_L after tapping                   0.135208           0.316417   \n",
       "Diff % Al after tapping                0.413803          -0.318341   \n",
       "Slag wt (kg)                           0.725649          -0.562223   \n",
       "Tap wt (kg)                            0.030704           0.078061   \n",
       "Ladle wt (kg)                          0.033618          -0.025101   \n",
       "Wt before slagging (kg)                0.043550           0.021718   \n",
       "Wt after slagging (kg)                -0.023266           0.012019   \n",
       "Kalk added (kg) at LF                 -0.067953           0.117827   \n",
       "Alumet added (kg) at LF               -0.054425           0.134275   \n",
       "Al added (kg) at LF                    0.098003          -0.450949   \n",
       "FeSi added (kg) at LF                  0.058071          -0.016195   \n",
       "C added (kg) at LF                     0.508767          -0.825691   \n",
       "% C after degassing                   -0.024329           0.029740   \n",
       "% SI after degassing                  -0.001593          -0.014148   \n",
       "% AL_T after degassing                 0.036309          -0.023546   \n",
       "% AL_L after degassing                 0.072334          -0.054868   \n",
       "Diff % Al after degassing             -0.107591           0.093904   \n",
       "\n",
       "                           % SI after tapping  % AL_T after tapping  ...  \\\n",
       "% C before tapping                  -0.082038             -0.021556  ...   \n",
       "% SI before tapping                 -0.029026              0.028335  ...   \n",
       "% AL_T before tapping               -0.000684              0.054355  ...   \n",
       "% AL_L before tapping               -0.014118              0.044951  ...   \n",
       "Diff % Al before tapping             0.073169              0.059069  ...   \n",
       "FeSi added (kg) at EAF               0.448541             -0.047730  ...   \n",
       "Al added (kg) at EAF                 0.047323              0.304632  ...   \n",
       "% C after tapping                   -0.075372              0.134491  ...   \n",
       "% SI after tapping                   1.000000              0.214237  ...   \n",
       "% AL_T after tapping                 0.214237              1.000000  ...   \n",
       "% AL_L after tapping                 0.183676              0.893414  ...   \n",
       "Diff % Al after tapping              0.118121              0.480969  ...   \n",
       "Slag wt (kg)                         0.025670              0.049873  ...   \n",
       "Tap wt (kg)                         -0.263348              0.048065  ...   \n",
       "Ladle wt (kg)                        0.018033              0.015681  ...   \n",
       "Wt before slagging (kg)             -0.082146             -0.004824  ...   \n",
       "Wt after slagging (kg)              -0.010156             -0.034826  ...   \n",
       "Kalk added (kg) at LF                0.006294              0.023708  ...   \n",
       "Alumet added (kg) at LF              0.007586              0.028924  ...   \n",
       "Al added (kg) at LF                 -0.115333             -0.702817  ...   \n",
       "FeSi added (kg) at LF               -0.827142             -0.167543  ...   \n",
       "C added (kg) at LF                   0.042885             -0.102646  ...   \n",
       "% C after degassing                  0.025475             -0.023889  ...   \n",
       "% SI after degassing                 0.083334             -0.049191  ...   \n",
       "% AL_T after degassing               0.018866              0.093425  ...   \n",
       "% AL_L after degassing               0.034289              0.099635  ...   \n",
       "Diff % Al after degassing           -0.045912             -0.014679  ...   \n",
       "\n",
       "                           Kalk added (kg) at LF  Alumet added (kg) at LF  \\\n",
       "% C before tapping                      0.089166                 0.085898   \n",
       "% SI before tapping                    -0.009034                -0.010563   \n",
       "% AL_T before tapping                   0.061737                 0.058462   \n",
       "% AL_L before tapping                   0.074909                 0.073404   \n",
       "Diff % Al before tapping               -0.063007                -0.073125   \n",
       "FeSi added (kg) at EAF                  0.148137                 0.168374   \n",
       "Al added (kg) at EAF                   -0.067953                -0.054425   \n",
       "% C after tapping                       0.117827                 0.134275   \n",
       "% SI after tapping                      0.006294                 0.007586   \n",
       "% AL_T after tapping                    0.023708                 0.028924   \n",
       "% AL_L after tapping                    0.058727                 0.078521   \n",
       "Diff % Al after tapping                -0.061872                -0.088900   \n",
       "Slag wt (kg)                           -0.108789                -0.095773   \n",
       "Tap wt (kg)                            -0.130377                -0.091743   \n",
       "Ladle wt (kg)                          -0.032400                -0.064588   \n",
       "Wt before slagging (kg)                -0.051022                -0.050555   \n",
       "Wt after slagging (kg)                  0.014713                 0.017804   \n",
       "Kalk added (kg) at LF                   1.000000                 0.817696   \n",
       "Alumet added (kg) at LF                 0.817696                 1.000000   \n",
       "Al added (kg) at LF                    -0.065508                -0.074343   \n",
       "FeSi added (kg) at LF                   0.011341                -0.005664   \n",
       "C added (kg) at LF                     -0.073036                -0.094758   \n",
       "% C after degassing                     0.018353                 0.025834   \n",
       "% SI after degassing                    0.036062                 0.039376   \n",
       "% AL_T after degassing                 -0.087441                -0.107933   \n",
       "% AL_L after degassing                 -0.115000                -0.127757   \n",
       "Diff % Al after degassing               0.079662                 0.055305   \n",
       "\n",
       "                           Al added (kg) at LF  FeSi added (kg) at LF  \\\n",
       "% C before tapping                   -0.256593              -0.009708   \n",
       "% SI before tapping                  -0.079802               0.016093   \n",
       "% AL_T before tapping                -0.106094              -0.006281   \n",
       "% AL_L before tapping                -0.138001              -0.005165   \n",
       "Diff % Al before tapping              0.158837              -0.006988   \n",
       "FeSi added (kg) at EAF                0.060982              -0.393635   \n",
       "Al added (kg) at EAF                  0.098003               0.058071   \n",
       "% C after tapping                    -0.450949              -0.016195   \n",
       "% SI after tapping                   -0.115333              -0.827142   \n",
       "% AL_T after tapping                 -0.702817              -0.167543   \n",
       "% AL_L after tapping                 -0.762616              -0.190200   \n",
       "Diff % Al after tapping              -0.075130              -0.001515   \n",
       "Slag wt (kg)                          0.297755               0.091242   \n",
       "Tap wt (kg)                          -0.025619               0.286997   \n",
       "Ladle wt (kg)                         0.001344              -0.009550   \n",
       "Wt before slagging (kg)               0.033081               0.135138   \n",
       "Wt after slagging (kg)                0.026651               0.032263   \n",
       "Kalk added (kg) at LF                -0.065508               0.011341   \n",
       "Alumet added (kg) at LF              -0.074343              -0.005664   \n",
       "Al added (kg) at LF                   1.000000               0.273046   \n",
       "FeSi added (kg) at LF                 0.273046               1.000000   \n",
       "C added (kg) at LF                    0.437884               0.066045   \n",
       "% C after degassing                   0.008993              -0.026211   \n",
       "% SI after degassing                  0.041213               0.005094   \n",
       "% AL_T after degassing               -0.149716              -0.072589   \n",
       "% AL_L after degassing               -0.123437              -0.056816   \n",
       "Diff % Al after degassing            -0.086300              -0.051032   \n",
       "\n",
       "                           C added (kg) at LF  % C after degassing  \\\n",
       "% C before tapping                  -0.583679             0.046876   \n",
       "% SI before tapping                 -0.142817            -0.001317   \n",
       "% AL_T before tapping               -0.104302             0.007827   \n",
       "% AL_L before tapping               -0.150147             0.014193   \n",
       "Diff % Al before tapping             0.235112            -0.033596   \n",
       "FeSi added (kg) at EAF               0.063564             0.038851   \n",
       "Al added (kg) at EAF                 0.508767            -0.024329   \n",
       "% C after tapping                   -0.825691             0.029740   \n",
       "% SI after tapping                   0.042885             0.025475   \n",
       "% AL_T after tapping                -0.102646            -0.023889   \n",
       "% AL_L after tapping                -0.253403            -0.025948   \n",
       "Diff % Al after tapping              0.266204            -0.002502   \n",
       "Slag wt (kg)                         0.452160            -0.038458   \n",
       "Tap wt (kg)                         -0.003490            -0.063459   \n",
       "Ladle wt (kg)                        0.022736             0.004749   \n",
       "Wt before slagging (kg)              0.085730            -0.034388   \n",
       "Wt after slagging (kg)               0.004343            -0.010617   \n",
       "Kalk added (kg) at LF               -0.073036             0.018353   \n",
       "Alumet added (kg) at LF             -0.094758             0.025834   \n",
       "Al added (kg) at LF                  0.437884             0.008993   \n",
       "FeSi added (kg) at LF                0.066045            -0.026211   \n",
       "C added (kg) at LF                   1.000000            -0.035072   \n",
       "% C after degassing                 -0.035072             1.000000   \n",
       "% SI after degassing                 0.036000             0.434742   \n",
       "% AL_T after degassing               0.023361            -0.333223   \n",
       "% AL_L after degassing               0.060676            -0.184424   \n",
       "Diff % Al after degassing           -0.112078            -0.465835   \n",
       "\n",
       "                           % SI after degassing  % AL_T after degassing  \\\n",
       "% C before tapping                    -0.000268               -0.034913   \n",
       "% SI before tapping                   -0.009711               -0.012941   \n",
       "% AL_T before tapping                  0.033215                0.006059   \n",
       "% AL_L before tapping                  0.028360               -0.001003   \n",
       "Diff % Al before tapping               0.031235                0.039381   \n",
       "FeSi added (kg) at EAF                 0.126848               -0.017817   \n",
       "Al added (kg) at EAF                  -0.001593                0.036309   \n",
       "% C after tapping                     -0.014148               -0.023546   \n",
       "% SI after tapping                     0.083334                0.018866   \n",
       "% AL_T after tapping                  -0.049191                0.093425   \n",
       "% AL_L after tapping                  -0.061233                0.127563   \n",
       "Diff % Al after tapping                0.010076               -0.041123   \n",
       "Slag wt (kg)                          -0.038035               -0.020326   \n",
       "Tap wt (kg)                           -0.115487                0.016729   \n",
       "Ladle wt (kg)                         -0.029247                0.036818   \n",
       "Wt before slagging (kg)               -0.038940                0.024236   \n",
       "Wt after slagging (kg)                -0.007828                0.042385   \n",
       "Kalk added (kg) at LF                  0.036062               -0.087441   \n",
       "Alumet added (kg) at LF                0.039376               -0.107933   \n",
       "Al added (kg) at LF                    0.041213               -0.149716   \n",
       "FeSi added (kg) at LF                  0.005094               -0.072589   \n",
       "C added (kg) at LF                     0.036000                0.023361   \n",
       "% C after degassing                    0.434742               -0.333223   \n",
       "% SI after degassing                   1.000000                0.104037   \n",
       "% AL_T after degassing                 0.104037                1.000000   \n",
       "% AL_L after degassing                 0.176658                0.946476   \n",
       "Diff % Al after degassing             -0.215520                0.206609   \n",
       "\n",
       "                           % AL_L after degassing  Diff % Al after degassing  \n",
       "% C before tapping                      -0.083027                   0.144301  \n",
       "% SI before tapping                     -0.012412                  -0.002177  \n",
       "% AL_T before tapping                    0.010682                  -0.013744  \n",
       "% AL_L before tapping                    0.003352                  -0.013246  \n",
       "Diff % Al before tapping                 0.041503                  -0.004685  \n",
       "FeSi added (kg) at EAF                  -0.038742                   0.062641  \n",
       "Al added (kg) at EAF                     0.072334                  -0.107591  \n",
       "% C after tapping                       -0.054868                   0.093904  \n",
       "% SI after tapping                       0.034289                  -0.045912  \n",
       "% AL_T after tapping                     0.099635                  -0.014679  \n",
       "% AL_L after tapping                     0.133183                  -0.011379  \n",
       "Diff % Al after tapping                 -0.038279                  -0.010447  \n",
       "Slag wt (kg)                             0.008541                  -0.088407  \n",
       "Tap wt (kg)                              0.070280                  -0.161587  \n",
       "Ladle wt (kg)                            0.042701                  -0.016198  \n",
       "Wt before slagging (kg)                  0.036919                  -0.037369  \n",
       "Wt after slagging (kg)                   0.067020                  -0.072795  \n",
       "Kalk added (kg) at LF                   -0.115000                   0.079662  \n",
       "Alumet added (kg) at LF                 -0.127757                   0.055305  \n",
       "Al added (kg) at LF                     -0.123437                  -0.086300  \n",
       "FeSi added (kg) at LF                   -0.056816                  -0.051032  \n",
       "C added (kg) at LF                       0.060676                  -0.112078  \n",
       "% C after degassing                     -0.184424                  -0.465835  \n",
       "% SI after degassing                     0.176658                  -0.215520  \n",
       "% AL_T after degassing                   0.946476                   0.206609  \n",
       "% AL_L after degassing                   1.000000                  -0.120259  \n",
       "Diff % Al after degassing               -0.120259                   1.000000  \n",
       "\n",
       "[27 rows x 27 columns]"
      ]
     },
     "execution_count": 6,
     "metadata": {},
     "output_type": "execute_result"
    }
   ],
   "source": [
    "df.corr()"
   ]
  },
  {
   "cell_type": "code",
   "execution_count": 7,
   "metadata": {},
   "outputs": [
    {
     "data": {
      "text/html": [
       "<div>\n",
       "<style scoped>\n",
       "    .dataframe tbody tr th:only-of-type {\n",
       "        vertical-align: middle;\n",
       "    }\n",
       "\n",
       "    .dataframe tbody tr th {\n",
       "        vertical-align: top;\n",
       "    }\n",
       "\n",
       "    .dataframe thead th {\n",
       "        text-align: right;\n",
       "    }\n",
       "</style>\n",
       "<table border=\"1\" class=\"dataframe\">\n",
       "  <thead>\n",
       "    <tr style=\"text-align: right;\">\n",
       "      <th></th>\n",
       "      <th>% C before tapping</th>\n",
       "      <th>% SI before tapping</th>\n",
       "      <th>% AL_T before tapping</th>\n",
       "      <th>% AL_L before tapping</th>\n",
       "      <th>Diff % Al before tapping</th>\n",
       "      <th>FeSi added (kg) at EAF</th>\n",
       "      <th>Al added (kg) at EAF</th>\n",
       "      <th>% C after tapping</th>\n",
       "      <th>% SI after tapping</th>\n",
       "      <th>% AL_T after tapping</th>\n",
       "      <th>...</th>\n",
       "      <th>Kalk added (kg) at LF</th>\n",
       "      <th>Alumet added (kg) at LF</th>\n",
       "      <th>Al added (kg) at LF</th>\n",
       "      <th>FeSi added (kg) at LF</th>\n",
       "      <th>C added (kg) at LF</th>\n",
       "      <th>% C after degassing</th>\n",
       "      <th>% SI after degassing</th>\n",
       "      <th>% AL_T after degassing</th>\n",
       "      <th>% AL_L after degassing</th>\n",
       "      <th>Diff % Al after degassing</th>\n",
       "    </tr>\n",
       "  </thead>\n",
       "  <tbody>\n",
       "    <tr>\n",
       "      <th>count</th>\n",
       "      <td>867.000000</td>\n",
       "      <td>867.000000</td>\n",
       "      <td>867.000000</td>\n",
       "      <td>867.000000</td>\n",
       "      <td>867.000000</td>\n",
       "      <td>867.000000</td>\n",
       "      <td>867.000000</td>\n",
       "      <td>867.000000</td>\n",
       "      <td>867.000000</td>\n",
       "      <td>867.000000</td>\n",
       "      <td>...</td>\n",
       "      <td>867.000000</td>\n",
       "      <td>867.000000</td>\n",
       "      <td>867.000000</td>\n",
       "      <td>867.000000</td>\n",
       "      <td>867.000000</td>\n",
       "      <td>867.000000</td>\n",
       "      <td>867.000000</td>\n",
       "      <td>867.000000</td>\n",
       "      <td>867.00000</td>\n",
       "      <td>867.000000</td>\n",
       "    </tr>\n",
       "    <tr>\n",
       "      <th>mean</th>\n",
       "      <td>0.264833</td>\n",
       "      <td>0.014465</td>\n",
       "      <td>0.148859</td>\n",
       "      <td>0.133115</td>\n",
       "      <td>1.574394</td>\n",
       "      <td>326.048443</td>\n",
       "      <td>135.927336</td>\n",
       "      <td>0.138603</td>\n",
       "      <td>0.188498</td>\n",
       "      <td>0.050640</td>\n",
       "      <td>...</td>\n",
       "      <td>651.335640</td>\n",
       "      <td>440.337947</td>\n",
       "      <td>33.369089</td>\n",
       "      <td>64.748558</td>\n",
       "      <td>812.307958</td>\n",
       "      <td>0.995945</td>\n",
       "      <td>0.231292</td>\n",
       "      <td>0.033589</td>\n",
       "      <td>0.03179</td>\n",
       "      <td>0.179931</td>\n",
       "    </tr>\n",
       "    <tr>\n",
       "      <th>std</th>\n",
       "      <td>0.186136</td>\n",
       "      <td>0.017272</td>\n",
       "      <td>0.089351</td>\n",
       "      <td>0.087066</td>\n",
       "      <td>1.596363</td>\n",
       "      <td>48.198205</td>\n",
       "      <td>46.879710</td>\n",
       "      <td>0.103391</td>\n",
       "      <td>0.026042</td>\n",
       "      <td>0.018517</td>\n",
       "      <td>...</td>\n",
       "      <td>259.547602</td>\n",
       "      <td>179.195418</td>\n",
       "      <td>23.084089</td>\n",
       "      <td>40.347154</td>\n",
       "      <td>118.883513</td>\n",
       "      <td>0.032322</td>\n",
       "      <td>0.016527</td>\n",
       "      <td>0.006057</td>\n",
       "      <td>0.00597</td>\n",
       "      <td>0.196948</td>\n",
       "    </tr>\n",
       "    <tr>\n",
       "      <th>min</th>\n",
       "      <td>0.030000</td>\n",
       "      <td>0.000000</td>\n",
       "      <td>0.001000</td>\n",
       "      <td>0.001000</td>\n",
       "      <td>0.000000</td>\n",
       "      <td>0.000000</td>\n",
       "      <td>92.000000</td>\n",
       "      <td>0.020000</td>\n",
       "      <td>0.000000</td>\n",
       "      <td>0.001000</td>\n",
       "      <td>...</td>\n",
       "      <td>82.000000</td>\n",
       "      <td>258.000000</td>\n",
       "      <td>3.000000</td>\n",
       "      <td>12.000000</td>\n",
       "      <td>328.000000</td>\n",
       "      <td>0.080000</td>\n",
       "      <td>0.010000</td>\n",
       "      <td>0.018000</td>\n",
       "      <td>0.01400</td>\n",
       "      <td>-0.600000</td>\n",
       "    </tr>\n",
       "    <tr>\n",
       "      <th>25%</th>\n",
       "      <td>0.110000</td>\n",
       "      <td>0.010000</td>\n",
       "      <td>0.080000</td>\n",
       "      <td>0.064500</td>\n",
       "      <td>0.700000</td>\n",
       "      <td>298.000000</td>\n",
       "      <td>100.000000</td>\n",
       "      <td>0.060000</td>\n",
       "      <td>0.170000</td>\n",
       "      <td>0.040000</td>\n",
       "      <td>...</td>\n",
       "      <td>484.500000</td>\n",
       "      <td>318.000000</td>\n",
       "      <td>17.000000</td>\n",
       "      <td>34.000000</td>\n",
       "      <td>762.500000</td>\n",
       "      <td>0.990000</td>\n",
       "      <td>0.220000</td>\n",
       "      <td>0.029000</td>\n",
       "      <td>0.02800</td>\n",
       "      <td>0.100000</td>\n",
       "    </tr>\n",
       "    <tr>\n",
       "      <th>50%</th>\n",
       "      <td>0.210000</td>\n",
       "      <td>0.010000</td>\n",
       "      <td>0.142000</td>\n",
       "      <td>0.126000</td>\n",
       "      <td>1.200000</td>\n",
       "      <td>324.000000</td>\n",
       "      <td>114.000000</td>\n",
       "      <td>0.110000</td>\n",
       "      <td>0.190000</td>\n",
       "      <td>0.052000</td>\n",
       "      <td>...</td>\n",
       "      <td>536.000000</td>\n",
       "      <td>355.000000</td>\n",
       "      <td>27.000000</td>\n",
       "      <td>56.000000</td>\n",
       "      <td>836.000000</td>\n",
       "      <td>1.000000</td>\n",
       "      <td>0.230000</td>\n",
       "      <td>0.032000</td>\n",
       "      <td>0.03100</td>\n",
       "      <td>0.100000</td>\n",
       "    </tr>\n",
       "    <tr>\n",
       "      <th>75%</th>\n",
       "      <td>0.380000</td>\n",
       "      <td>0.020000</td>\n",
       "      <td>0.207000</td>\n",
       "      <td>0.190000</td>\n",
       "      <td>2.100000</td>\n",
       "      <td>352.000000</td>\n",
       "      <td>161.500000</td>\n",
       "      <td>0.190000</td>\n",
       "      <td>0.200000</td>\n",
       "      <td>0.061000</td>\n",
       "      <td>...</td>\n",
       "      <td>613.000000</td>\n",
       "      <td>608.500000</td>\n",
       "      <td>45.000000</td>\n",
       "      <td>85.000000</td>\n",
       "      <td>882.000000</td>\n",
       "      <td>1.000000</td>\n",
       "      <td>0.240000</td>\n",
       "      <td>0.037000</td>\n",
       "      <td>0.03500</td>\n",
       "      <td>0.300000</td>\n",
       "    </tr>\n",
       "    <tr>\n",
       "      <th>max</th>\n",
       "      <td>1.230000</td>\n",
       "      <td>0.481000</td>\n",
       "      <td>0.836000</td>\n",
       "      <td>0.811000</td>\n",
       "      <td>23.900000</td>\n",
       "      <td>752.000000</td>\n",
       "      <td>344.000000</td>\n",
       "      <td>0.940000</td>\n",
       "      <td>0.310000</td>\n",
       "      <td>0.212000</td>\n",
       "      <td>...</td>\n",
       "      <td>1992.000000</td>\n",
       "      <td>1098.000000</td>\n",
       "      <td>145.000000</td>\n",
       "      <td>339.000000</td>\n",
       "      <td>1734.000000</td>\n",
       "      <td>1.050000</td>\n",
       "      <td>0.310000</td>\n",
       "      <td>0.093000</td>\n",
       "      <td>0.06300</td>\n",
       "      <td>3.000000</td>\n",
       "    </tr>\n",
       "  </tbody>\n",
       "</table>\n",
       "<p>8 rows × 27 columns</p>\n",
       "</div>"
      ],
      "text/plain": [
       "       % C before tapping  % SI before tapping  % AL_T before tapping  \\\n",
       "count          867.000000           867.000000             867.000000   \n",
       "mean             0.264833             0.014465               0.148859   \n",
       "std              0.186136             0.017272               0.089351   \n",
       "min              0.030000             0.000000               0.001000   \n",
       "25%              0.110000             0.010000               0.080000   \n",
       "50%              0.210000             0.010000               0.142000   \n",
       "75%              0.380000             0.020000               0.207000   \n",
       "max              1.230000             0.481000               0.836000   \n",
       "\n",
       "       % AL_L before tapping  Diff % Al before tapping  \\\n",
       "count             867.000000                867.000000   \n",
       "mean                0.133115                  1.574394   \n",
       "std                 0.087066                  1.596363   \n",
       "min                 0.001000                  0.000000   \n",
       "25%                 0.064500                  0.700000   \n",
       "50%                 0.126000                  1.200000   \n",
       "75%                 0.190000                  2.100000   \n",
       "max                 0.811000                 23.900000   \n",
       "\n",
       "       FeSi added (kg) at EAF  Al added (kg) at EAF  % C after tapping  \\\n",
       "count              867.000000            867.000000         867.000000   \n",
       "mean               326.048443            135.927336           0.138603   \n",
       "std                 48.198205             46.879710           0.103391   \n",
       "min                  0.000000             92.000000           0.020000   \n",
       "25%                298.000000            100.000000           0.060000   \n",
       "50%                324.000000            114.000000           0.110000   \n",
       "75%                352.000000            161.500000           0.190000   \n",
       "max                752.000000            344.000000           0.940000   \n",
       "\n",
       "       % SI after tapping  % AL_T after tapping  ...  Kalk added (kg) at LF  \\\n",
       "count          867.000000            867.000000  ...             867.000000   \n",
       "mean             0.188498              0.050640  ...             651.335640   \n",
       "std              0.026042              0.018517  ...             259.547602   \n",
       "min              0.000000              0.001000  ...              82.000000   \n",
       "25%              0.170000              0.040000  ...             484.500000   \n",
       "50%              0.190000              0.052000  ...             536.000000   \n",
       "75%              0.200000              0.061000  ...             613.000000   \n",
       "max              0.310000              0.212000  ...            1992.000000   \n",
       "\n",
       "       Alumet added (kg) at LF  Al added (kg) at LF  FeSi added (kg) at LF  \\\n",
       "count               867.000000           867.000000             867.000000   \n",
       "mean                440.337947            33.369089              64.748558   \n",
       "std                 179.195418            23.084089              40.347154   \n",
       "min                 258.000000             3.000000              12.000000   \n",
       "25%                 318.000000            17.000000              34.000000   \n",
       "50%                 355.000000            27.000000              56.000000   \n",
       "75%                 608.500000            45.000000              85.000000   \n",
       "max                1098.000000           145.000000             339.000000   \n",
       "\n",
       "       C added (kg) at LF  % C after degassing  % SI after degassing  \\\n",
       "count          867.000000           867.000000            867.000000   \n",
       "mean           812.307958             0.995945              0.231292   \n",
       "std            118.883513             0.032322              0.016527   \n",
       "min            328.000000             0.080000              0.010000   \n",
       "25%            762.500000             0.990000              0.220000   \n",
       "50%            836.000000             1.000000              0.230000   \n",
       "75%            882.000000             1.000000              0.240000   \n",
       "max           1734.000000             1.050000              0.310000   \n",
       "\n",
       "       % AL_T after degassing  % AL_L after degassing  \\\n",
       "count              867.000000               867.00000   \n",
       "mean                 0.033589                 0.03179   \n",
       "std                  0.006057                 0.00597   \n",
       "min                  0.018000                 0.01400   \n",
       "25%                  0.029000                 0.02800   \n",
       "50%                  0.032000                 0.03100   \n",
       "75%                  0.037000                 0.03500   \n",
       "max                  0.093000                 0.06300   \n",
       "\n",
       "       Diff % Al after degassing  \n",
       "count                 867.000000  \n",
       "mean                    0.179931  \n",
       "std                     0.196948  \n",
       "min                    -0.600000  \n",
       "25%                     0.100000  \n",
       "50%                     0.100000  \n",
       "75%                     0.300000  \n",
       "max                     3.000000  \n",
       "\n",
       "[8 rows x 27 columns]"
      ]
     },
     "execution_count": 7,
     "metadata": {},
     "output_type": "execute_result"
    }
   ],
   "source": [
    "df.describe()"
   ]
  },
  {
   "cell_type": "code",
   "execution_count": 8,
   "metadata": {},
   "outputs": [
    {
     "data": {
      "text/html": [
       "<div>\n",
       "<style scoped>\n",
       "    .dataframe tbody tr th:only-of-type {\n",
       "        vertical-align: middle;\n",
       "    }\n",
       "\n",
       "    .dataframe tbody tr th {\n",
       "        vertical-align: top;\n",
       "    }\n",
       "\n",
       "    .dataframe thead th {\n",
       "        text-align: right;\n",
       "    }\n",
       "</style>\n",
       "<table border=\"1\" class=\"dataframe\">\n",
       "  <thead>\n",
       "    <tr style=\"text-align: right;\">\n",
       "      <th></th>\n",
       "      <th>Charge</th>\n",
       "      <th>Steel grade</th>\n",
       "    </tr>\n",
       "  </thead>\n",
       "  <tbody>\n",
       "    <tr>\n",
       "      <th>count</th>\n",
       "      <td>867</td>\n",
       "      <td>867</td>\n",
       "    </tr>\n",
       "    <tr>\n",
       "      <th>unique</th>\n",
       "      <td>867</td>\n",
       "      <td>1</td>\n",
       "    </tr>\n",
       "    <tr>\n",
       "      <th>top</th>\n",
       "      <td>G9670</td>\n",
       "      <td>803P</td>\n",
       "    </tr>\n",
       "    <tr>\n",
       "      <th>freq</th>\n",
       "      <td>1</td>\n",
       "      <td>867</td>\n",
       "    </tr>\n",
       "  </tbody>\n",
       "</table>\n",
       "</div>"
      ],
      "text/plain": [
       "       Charge Steel grade\n",
       "count     867         867\n",
       "unique    867           1\n",
       "top     G9670        803P\n",
       "freq        1         867"
      ]
     },
     "execution_count": 8,
     "metadata": {},
     "output_type": "execute_result"
    }
   ],
   "source": [
    "df.describe(include=['object'])"
   ]
  },
  {
   "cell_type": "code",
   "execution_count": 9,
   "metadata": {},
   "outputs": [
    {
     "data": {
      "text/html": [
       "<div>\n",
       "<style scoped>\n",
       "    .dataframe tbody tr th:only-of-type {\n",
       "        vertical-align: middle;\n",
       "    }\n",
       "\n",
       "    .dataframe tbody tr th {\n",
       "        vertical-align: top;\n",
       "    }\n",
       "\n",
       "    .dataframe thead th {\n",
       "        text-align: right;\n",
       "    }\n",
       "</style>\n",
       "<table border=\"1\" class=\"dataframe\">\n",
       "  <thead>\n",
       "    <tr style=\"text-align: right;\">\n",
       "      <th></th>\n",
       "      <th>Diff % Al before tapping</th>\n",
       "      <th>% C before tapping</th>\n",
       "      <th>Diff % Al after tapping</th>\n",
       "      <th>% C after tapping</th>\n",
       "      <th>Slag wt (kg)</th>\n",
       "      <th>Al added (kg) at EAF</th>\n",
       "      <th>Al added (kg) at LF</th>\n",
       "      <th>C added (kg) at LF</th>\n",
       "      <th>% C after degassing</th>\n",
       "      <th>Diff % Al after degassing</th>\n",
       "    </tr>\n",
       "  </thead>\n",
       "  <tbody>\n",
       "    <tr>\n",
       "      <th>Diff % Al before tapping</th>\n",
       "      <td>1.000000</td>\n",
       "      <td>-0.346647</td>\n",
       "      <td>0.270077</td>\n",
       "      <td>-0.304921</td>\n",
       "      <td>0.520651</td>\n",
       "      <td>0.426131</td>\n",
       "      <td>0.158837</td>\n",
       "      <td>0.235112</td>\n",
       "      <td>-0.033596</td>\n",
       "      <td>-0.004685</td>\n",
       "    </tr>\n",
       "    <tr>\n",
       "      <th>% C before tapping</th>\n",
       "      <td>-0.346647</td>\n",
       "      <td>1.000000</td>\n",
       "      <td>-0.240328</td>\n",
       "      <td>0.650649</td>\n",
       "      <td>-0.584757</td>\n",
       "      <td>-0.503637</td>\n",
       "      <td>-0.256593</td>\n",
       "      <td>-0.583679</td>\n",
       "      <td>0.046876</td>\n",
       "      <td>0.144301</td>\n",
       "    </tr>\n",
       "    <tr>\n",
       "      <th>Diff % Al after tapping</th>\n",
       "      <td>0.270077</td>\n",
       "      <td>-0.240328</td>\n",
       "      <td>1.000000</td>\n",
       "      <td>-0.318341</td>\n",
       "      <td>0.344876</td>\n",
       "      <td>0.413803</td>\n",
       "      <td>-0.075130</td>\n",
       "      <td>0.266204</td>\n",
       "      <td>-0.002502</td>\n",
       "      <td>-0.010447</td>\n",
       "    </tr>\n",
       "    <tr>\n",
       "      <th>% C after tapping</th>\n",
       "      <td>-0.304921</td>\n",
       "      <td>0.650649</td>\n",
       "      <td>-0.318341</td>\n",
       "      <td>1.000000</td>\n",
       "      <td>-0.562223</td>\n",
       "      <td>-0.543142</td>\n",
       "      <td>-0.450949</td>\n",
       "      <td>-0.825691</td>\n",
       "      <td>0.029740</td>\n",
       "      <td>0.093904</td>\n",
       "    </tr>\n",
       "    <tr>\n",
       "      <th>Slag wt (kg)</th>\n",
       "      <td>0.520651</td>\n",
       "      <td>-0.584757</td>\n",
       "      <td>0.344876</td>\n",
       "      <td>-0.562223</td>\n",
       "      <td>1.000000</td>\n",
       "      <td>0.725649</td>\n",
       "      <td>0.297755</td>\n",
       "      <td>0.452160</td>\n",
       "      <td>-0.038458</td>\n",
       "      <td>-0.088407</td>\n",
       "    </tr>\n",
       "    <tr>\n",
       "      <th>Al added (kg) at EAF</th>\n",
       "      <td>0.426131</td>\n",
       "      <td>-0.503637</td>\n",
       "      <td>0.413803</td>\n",
       "      <td>-0.543142</td>\n",
       "      <td>0.725649</td>\n",
       "      <td>1.000000</td>\n",
       "      <td>0.098003</td>\n",
       "      <td>0.508767</td>\n",
       "      <td>-0.024329</td>\n",
       "      <td>-0.107591</td>\n",
       "    </tr>\n",
       "    <tr>\n",
       "      <th>Al added (kg) at LF</th>\n",
       "      <td>0.158837</td>\n",
       "      <td>-0.256593</td>\n",
       "      <td>-0.075130</td>\n",
       "      <td>-0.450949</td>\n",
       "      <td>0.297755</td>\n",
       "      <td>0.098003</td>\n",
       "      <td>1.000000</td>\n",
       "      <td>0.437884</td>\n",
       "      <td>0.008993</td>\n",
       "      <td>-0.086300</td>\n",
       "    </tr>\n",
       "    <tr>\n",
       "      <th>C added (kg) at LF</th>\n",
       "      <td>0.235112</td>\n",
       "      <td>-0.583679</td>\n",
       "      <td>0.266204</td>\n",
       "      <td>-0.825691</td>\n",
       "      <td>0.452160</td>\n",
       "      <td>0.508767</td>\n",
       "      <td>0.437884</td>\n",
       "      <td>1.000000</td>\n",
       "      <td>-0.035072</td>\n",
       "      <td>-0.112078</td>\n",
       "    </tr>\n",
       "    <tr>\n",
       "      <th>% C after degassing</th>\n",
       "      <td>-0.033596</td>\n",
       "      <td>0.046876</td>\n",
       "      <td>-0.002502</td>\n",
       "      <td>0.029740</td>\n",
       "      <td>-0.038458</td>\n",
       "      <td>-0.024329</td>\n",
       "      <td>0.008993</td>\n",
       "      <td>-0.035072</td>\n",
       "      <td>1.000000</td>\n",
       "      <td>-0.465835</td>\n",
       "    </tr>\n",
       "    <tr>\n",
       "      <th>Diff % Al after degassing</th>\n",
       "      <td>-0.004685</td>\n",
       "      <td>0.144301</td>\n",
       "      <td>-0.010447</td>\n",
       "      <td>0.093904</td>\n",
       "      <td>-0.088407</td>\n",
       "      <td>-0.107591</td>\n",
       "      <td>-0.086300</td>\n",
       "      <td>-0.112078</td>\n",
       "      <td>-0.465835</td>\n",
       "      <td>1.000000</td>\n",
       "    </tr>\n",
       "  </tbody>\n",
       "</table>\n",
       "</div>"
      ],
      "text/plain": [
       "                           Diff % Al before tapping  % C before tapping  \\\n",
       "Diff % Al before tapping                   1.000000           -0.346647   \n",
       "% C before tapping                        -0.346647            1.000000   \n",
       "Diff % Al after tapping                    0.270077           -0.240328   \n",
       "% C after tapping                         -0.304921            0.650649   \n",
       "Slag wt (kg)                               0.520651           -0.584757   \n",
       "Al added (kg) at EAF                       0.426131           -0.503637   \n",
       "Al added (kg) at LF                        0.158837           -0.256593   \n",
       "C added (kg) at LF                         0.235112           -0.583679   \n",
       "% C after degassing                       -0.033596            0.046876   \n",
       "Diff % Al after degassing                 -0.004685            0.144301   \n",
       "\n",
       "                           Diff % Al after tapping  % C after tapping  \\\n",
       "Diff % Al before tapping                  0.270077          -0.304921   \n",
       "% C before tapping                       -0.240328           0.650649   \n",
       "Diff % Al after tapping                   1.000000          -0.318341   \n",
       "% C after tapping                        -0.318341           1.000000   \n",
       "Slag wt (kg)                              0.344876          -0.562223   \n",
       "Al added (kg) at EAF                      0.413803          -0.543142   \n",
       "Al added (kg) at LF                      -0.075130          -0.450949   \n",
       "C added (kg) at LF                        0.266204          -0.825691   \n",
       "% C after degassing                      -0.002502           0.029740   \n",
       "Diff % Al after degassing                -0.010447           0.093904   \n",
       "\n",
       "                           Slag wt (kg)  Al added (kg) at EAF  \\\n",
       "Diff % Al before tapping       0.520651              0.426131   \n",
       "% C before tapping            -0.584757             -0.503637   \n",
       "Diff % Al after tapping        0.344876              0.413803   \n",
       "% C after tapping             -0.562223             -0.543142   \n",
       "Slag wt (kg)                   1.000000              0.725649   \n",
       "Al added (kg) at EAF           0.725649              1.000000   \n",
       "Al added (kg) at LF            0.297755              0.098003   \n",
       "C added (kg) at LF             0.452160              0.508767   \n",
       "% C after degassing           -0.038458             -0.024329   \n",
       "Diff % Al after degassing     -0.088407             -0.107591   \n",
       "\n",
       "                           Al added (kg) at LF  C added (kg) at LF  \\\n",
       "Diff % Al before tapping              0.158837            0.235112   \n",
       "% C before tapping                   -0.256593           -0.583679   \n",
       "Diff % Al after tapping              -0.075130            0.266204   \n",
       "% C after tapping                    -0.450949           -0.825691   \n",
       "Slag wt (kg)                          0.297755            0.452160   \n",
       "Al added (kg) at EAF                  0.098003            0.508767   \n",
       "Al added (kg) at LF                   1.000000            0.437884   \n",
       "C added (kg) at LF                    0.437884            1.000000   \n",
       "% C after degassing                   0.008993           -0.035072   \n",
       "Diff % Al after degassing            -0.086300           -0.112078   \n",
       "\n",
       "                           % C after degassing  Diff % Al after degassing  \n",
       "Diff % Al before tapping             -0.033596                  -0.004685  \n",
       "% C before tapping                    0.046876                   0.144301  \n",
       "Diff % Al after tapping              -0.002502                  -0.010447  \n",
       "% C after tapping                     0.029740                   0.093904  \n",
       "Slag wt (kg)                         -0.038458                  -0.088407  \n",
       "Al added (kg) at EAF                 -0.024329                  -0.107591  \n",
       "Al added (kg) at LF                   0.008993                  -0.086300  \n",
       "C added (kg) at LF                   -0.035072                  -0.112078  \n",
       "% C after degassing                   1.000000                  -0.465835  \n",
       "Diff % Al after degassing            -0.465835                   1.000000  "
      ]
     },
     "execution_count": 9,
     "metadata": {},
     "output_type": "execute_result"
    }
   ],
   "source": [
    "df[['Diff % Al before tapping', '% C before tapping', 'Diff % Al after tapping', '% C after tapping', 'Slag wt (kg)', 'Al added (kg) at EAF', 'Al added (kg) at LF', 'C added (kg) at LF', '% C after degassing', 'Diff % Al after degassing']].corr()"
   ]
  },
  {
   "cell_type": "code",
   "execution_count": 10,
   "metadata": {},
   "outputs": [
    {
     "data": {
      "text/html": [
       "<div>\n",
       "<style scoped>\n",
       "    .dataframe tbody tr th:only-of-type {\n",
       "        vertical-align: middle;\n",
       "    }\n",
       "\n",
       "    .dataframe tbody tr th {\n",
       "        vertical-align: top;\n",
       "    }\n",
       "\n",
       "    .dataframe thead th {\n",
       "        text-align: right;\n",
       "    }\n",
       "</style>\n",
       "<table border=\"1\" class=\"dataframe\">\n",
       "  <thead>\n",
       "    <tr style=\"text-align: right;\">\n",
       "      <th></th>\n",
       "      <th>% AL_L before tapping</th>\n",
       "      <th>% C before tapping</th>\n",
       "      <th>% AL_L after tapping</th>\n",
       "      <th>% C after tapping</th>\n",
       "      <th>Slag wt (kg)</th>\n",
       "      <th>Al added (kg) at EAF</th>\n",
       "      <th>Al added (kg) at LF</th>\n",
       "      <th>C added (kg) at LF</th>\n",
       "      <th>% C after degassing</th>\n",
       "      <th>% AL_L after degassing</th>\n",
       "    </tr>\n",
       "  </thead>\n",
       "  <tbody>\n",
       "    <tr>\n",
       "      <th>% AL_L before tapping</th>\n",
       "      <td>1.000000</td>\n",
       "      <td>0.105818</td>\n",
       "      <td>0.081735</td>\n",
       "      <td>0.172050</td>\n",
       "      <td>-0.180070</td>\n",
       "      <td>-0.147894</td>\n",
       "      <td>-0.138001</td>\n",
       "      <td>-0.150147</td>\n",
       "      <td>0.014193</td>\n",
       "      <td>0.003352</td>\n",
       "    </tr>\n",
       "    <tr>\n",
       "      <th>% C before tapping</th>\n",
       "      <td>0.105818</td>\n",
       "      <td>1.000000</td>\n",
       "      <td>0.098572</td>\n",
       "      <td>0.650649</td>\n",
       "      <td>-0.584757</td>\n",
       "      <td>-0.503637</td>\n",
       "      <td>-0.256593</td>\n",
       "      <td>-0.583679</td>\n",
       "      <td>0.046876</td>\n",
       "      <td>-0.083027</td>\n",
       "    </tr>\n",
       "    <tr>\n",
       "      <th>% AL_L after tapping</th>\n",
       "      <td>0.081735</td>\n",
       "      <td>0.098572</td>\n",
       "      <td>1.000000</td>\n",
       "      <td>0.316417</td>\n",
       "      <td>-0.119864</td>\n",
       "      <td>0.135208</td>\n",
       "      <td>-0.762616</td>\n",
       "      <td>-0.253403</td>\n",
       "      <td>-0.025948</td>\n",
       "      <td>0.133183</td>\n",
       "    </tr>\n",
       "    <tr>\n",
       "      <th>% C after tapping</th>\n",
       "      <td>0.172050</td>\n",
       "      <td>0.650649</td>\n",
       "      <td>0.316417</td>\n",
       "      <td>1.000000</td>\n",
       "      <td>-0.562223</td>\n",
       "      <td>-0.543142</td>\n",
       "      <td>-0.450949</td>\n",
       "      <td>-0.825691</td>\n",
       "      <td>0.029740</td>\n",
       "      <td>-0.054868</td>\n",
       "    </tr>\n",
       "    <tr>\n",
       "      <th>Slag wt (kg)</th>\n",
       "      <td>-0.180070</td>\n",
       "      <td>-0.584757</td>\n",
       "      <td>-0.119864</td>\n",
       "      <td>-0.562223</td>\n",
       "      <td>1.000000</td>\n",
       "      <td>0.725649</td>\n",
       "      <td>0.297755</td>\n",
       "      <td>0.452160</td>\n",
       "      <td>-0.038458</td>\n",
       "      <td>0.008541</td>\n",
       "    </tr>\n",
       "    <tr>\n",
       "      <th>Al added (kg) at EAF</th>\n",
       "      <td>-0.147894</td>\n",
       "      <td>-0.503637</td>\n",
       "      <td>0.135208</td>\n",
       "      <td>-0.543142</td>\n",
       "      <td>0.725649</td>\n",
       "      <td>1.000000</td>\n",
       "      <td>0.098003</td>\n",
       "      <td>0.508767</td>\n",
       "      <td>-0.024329</td>\n",
       "      <td>0.072334</td>\n",
       "    </tr>\n",
       "    <tr>\n",
       "      <th>Al added (kg) at LF</th>\n",
       "      <td>-0.138001</td>\n",
       "      <td>-0.256593</td>\n",
       "      <td>-0.762616</td>\n",
       "      <td>-0.450949</td>\n",
       "      <td>0.297755</td>\n",
       "      <td>0.098003</td>\n",
       "      <td>1.000000</td>\n",
       "      <td>0.437884</td>\n",
       "      <td>0.008993</td>\n",
       "      <td>-0.123437</td>\n",
       "    </tr>\n",
       "    <tr>\n",
       "      <th>C added (kg) at LF</th>\n",
       "      <td>-0.150147</td>\n",
       "      <td>-0.583679</td>\n",
       "      <td>-0.253403</td>\n",
       "      <td>-0.825691</td>\n",
       "      <td>0.452160</td>\n",
       "      <td>0.508767</td>\n",
       "      <td>0.437884</td>\n",
       "      <td>1.000000</td>\n",
       "      <td>-0.035072</td>\n",
       "      <td>0.060676</td>\n",
       "    </tr>\n",
       "    <tr>\n",
       "      <th>% C after degassing</th>\n",
       "      <td>0.014193</td>\n",
       "      <td>0.046876</td>\n",
       "      <td>-0.025948</td>\n",
       "      <td>0.029740</td>\n",
       "      <td>-0.038458</td>\n",
       "      <td>-0.024329</td>\n",
       "      <td>0.008993</td>\n",
       "      <td>-0.035072</td>\n",
       "      <td>1.000000</td>\n",
       "      <td>-0.184424</td>\n",
       "    </tr>\n",
       "    <tr>\n",
       "      <th>% AL_L after degassing</th>\n",
       "      <td>0.003352</td>\n",
       "      <td>-0.083027</td>\n",
       "      <td>0.133183</td>\n",
       "      <td>-0.054868</td>\n",
       "      <td>0.008541</td>\n",
       "      <td>0.072334</td>\n",
       "      <td>-0.123437</td>\n",
       "      <td>0.060676</td>\n",
       "      <td>-0.184424</td>\n",
       "      <td>1.000000</td>\n",
       "    </tr>\n",
       "  </tbody>\n",
       "</table>\n",
       "</div>"
      ],
      "text/plain": [
       "                        % AL_L before tapping  % C before tapping  \\\n",
       "% AL_L before tapping                1.000000            0.105818   \n",
       "% C before tapping                   0.105818            1.000000   \n",
       "% AL_L after tapping                 0.081735            0.098572   \n",
       "% C after tapping                    0.172050            0.650649   \n",
       "Slag wt (kg)                        -0.180070           -0.584757   \n",
       "Al added (kg) at EAF                -0.147894           -0.503637   \n",
       "Al added (kg) at LF                 -0.138001           -0.256593   \n",
       "C added (kg) at LF                  -0.150147           -0.583679   \n",
       "% C after degassing                  0.014193            0.046876   \n",
       "% AL_L after degassing               0.003352           -0.083027   \n",
       "\n",
       "                        % AL_L after tapping  % C after tapping  Slag wt (kg)  \\\n",
       "% AL_L before tapping               0.081735           0.172050     -0.180070   \n",
       "% C before tapping                  0.098572           0.650649     -0.584757   \n",
       "% AL_L after tapping                1.000000           0.316417     -0.119864   \n",
       "% C after tapping                   0.316417           1.000000     -0.562223   \n",
       "Slag wt (kg)                       -0.119864          -0.562223      1.000000   \n",
       "Al added (kg) at EAF                0.135208          -0.543142      0.725649   \n",
       "Al added (kg) at LF                -0.762616          -0.450949      0.297755   \n",
       "C added (kg) at LF                 -0.253403          -0.825691      0.452160   \n",
       "% C after degassing                -0.025948           0.029740     -0.038458   \n",
       "% AL_L after degassing              0.133183          -0.054868      0.008541   \n",
       "\n",
       "                        Al added (kg) at EAF  Al added (kg) at LF  \\\n",
       "% AL_L before tapping              -0.147894            -0.138001   \n",
       "% C before tapping                 -0.503637            -0.256593   \n",
       "% AL_L after tapping                0.135208            -0.762616   \n",
       "% C after tapping                  -0.543142            -0.450949   \n",
       "Slag wt (kg)                        0.725649             0.297755   \n",
       "Al added (kg) at EAF                1.000000             0.098003   \n",
       "Al added (kg) at LF                 0.098003             1.000000   \n",
       "C added (kg) at LF                  0.508767             0.437884   \n",
       "% C after degassing                -0.024329             0.008993   \n",
       "% AL_L after degassing              0.072334            -0.123437   \n",
       "\n",
       "                        C added (kg) at LF  % C after degassing  \\\n",
       "% AL_L before tapping            -0.150147             0.014193   \n",
       "% C before tapping               -0.583679             0.046876   \n",
       "% AL_L after tapping             -0.253403            -0.025948   \n",
       "% C after tapping                -0.825691             0.029740   \n",
       "Slag wt (kg)                      0.452160            -0.038458   \n",
       "Al added (kg) at EAF              0.508767            -0.024329   \n",
       "Al added (kg) at LF               0.437884             0.008993   \n",
       "C added (kg) at LF                1.000000            -0.035072   \n",
       "% C after degassing              -0.035072             1.000000   \n",
       "% AL_L after degassing            0.060676            -0.184424   \n",
       "\n",
       "                        % AL_L after degassing  \n",
       "% AL_L before tapping                 0.003352  \n",
       "% C before tapping                   -0.083027  \n",
       "% AL_L after tapping                  0.133183  \n",
       "% C after tapping                    -0.054868  \n",
       "Slag wt (kg)                          0.008541  \n",
       "Al added (kg) at EAF                  0.072334  \n",
       "Al added (kg) at LF                  -0.123437  \n",
       "C added (kg) at LF                    0.060676  \n",
       "% C after degassing                  -0.184424  \n",
       "% AL_L after degassing                1.000000  "
      ]
     },
     "execution_count": 10,
     "metadata": {},
     "output_type": "execute_result"
    }
   ],
   "source": [
    "df[['% AL_L before tapping', '% C before tapping', '% AL_L after tapping', '% C after tapping', 'Slag wt (kg)', 'Al added (kg) at EAF', 'Al added (kg) at LF', 'C added (kg) at LF', '% C after degassing', '% AL_L after degassing']].corr()"
   ]
  },
  {
   "cell_type": "code",
   "execution_count": 11,
   "metadata": {},
   "outputs": [
    {
     "data": {
      "text/plain": [
       "(0.0, 152.1)"
      ]
     },
     "execution_count": 11,
     "metadata": {},
     "output_type": "execute_result"
    },
    {
     "data": {
      "image/png": "[encoded data removed]",
      "text/plain": [
       "<Figure size 432x288 with 1 Axes>"
      ]
     },
     "metadata": {
      "needs_background": "light"
     },
     "output_type": "display_data"
    }
   ],
   "source": [
    "# Slag wt (kg) as potential predictor variable of Al wire added at LF\n",
    "sns.regplot(x=\"Slag wt (kg)\", y=\"Al added (kg) at LF\", data=df)\n",
    "plt.ylim(0,)"
   ]
  },
  {
   "cell_type": "code",
   "execution_count": 12,
   "metadata": {},
   "outputs": [
    {
     "data": {
      "text/html": [
       "<div>\n",
       "<style scoped>\n",
       "    .dataframe tbody tr th:only-of-type {\n",
       "        vertical-align: middle;\n",
       "    }\n",
       "\n",
       "    .dataframe tbody tr th {\n",
       "        vertical-align: top;\n",
       "    }\n",
       "\n",
       "    .dataframe thead th {\n",
       "        text-align: right;\n",
       "    }\n",
       "</style>\n",
       "<table border=\"1\" class=\"dataframe\">\n",
       "  <thead>\n",
       "    <tr style=\"text-align: right;\">\n",
       "      <th></th>\n",
       "      <th>Slag wt (kg)</th>\n",
       "      <th>Al added (kg) at LF</th>\n",
       "    </tr>\n",
       "  </thead>\n",
       "  <tbody>\n",
       "    <tr>\n",
       "      <th>Slag wt (kg)</th>\n",
       "      <td>1.000000</td>\n",
       "      <td>0.297755</td>\n",
       "    </tr>\n",
       "    <tr>\n",
       "      <th>Al added (kg) at LF</th>\n",
       "      <td>0.297755</td>\n",
       "      <td>1.000000</td>\n",
       "    </tr>\n",
       "  </tbody>\n",
       "</table>\n",
       "</div>"
      ],
      "text/plain": [
       "                     Slag wt (kg)  Al added (kg) at LF\n",
       "Slag wt (kg)             1.000000             0.297755\n",
       "Al added (kg) at LF      0.297755             1.000000"
      ]
     },
     "execution_count": 12,
     "metadata": {},
     "output_type": "execute_result"
    }
   ],
   "source": [
    "df[[\"Slag wt (kg)\", \"Al added (kg) at LF\"]].corr()"
   ]
  },
  {
   "cell_type": "code",
   "execution_count": 13,
   "metadata": {},
   "outputs": [
    {
     "data": {
      "text/plain": [
       "(0.0, 155.24393690314136)"
      ]
     },
     "execution_count": 13,
     "metadata": {},
     "output_type": "execute_result"
    },
    {
     "data": {
      "image/png": "[encoded data removed]",
      "text/plain": [
       "<Figure size 432x288 with 1 Axes>"
      ]
     },
     "metadata": {
      "needs_background": "light"
     },
     "output_type": "display_data"
    }
   ],
   "source": [
    "# % C after tapping as potential predictor variable of Al wire added at LF\n",
    "sns.regplot(x=\"% C after tapping\", y=\"Al added (kg) at LF\", data=df)\n",
    "plt.ylim(0,)"
   ]
  },
  {
   "cell_type": "code",
   "execution_count": 14,
   "metadata": {},
   "outputs": [
    {
     "data": {
      "text/html": [
       "<div>\n",
       "<style scoped>\n",
       "    .dataframe tbody tr th:only-of-type {\n",
       "        vertical-align: middle;\n",
       "    }\n",
       "\n",
       "    .dataframe tbody tr th {\n",
       "        vertical-align: top;\n",
       "    }\n",
       "\n",
       "    .dataframe thead th {\n",
       "        text-align: right;\n",
       "    }\n",
       "</style>\n",
       "<table border=\"1\" class=\"dataframe\">\n",
       "  <thead>\n",
       "    <tr style=\"text-align: right;\">\n",
       "      <th></th>\n",
       "      <th>% C after tapping</th>\n",
       "      <th>Al added (kg) at LF</th>\n",
       "    </tr>\n",
       "  </thead>\n",
       "  <tbody>\n",
       "    <tr>\n",
       "      <th>% C after tapping</th>\n",
       "      <td>1.000000</td>\n",
       "      <td>-0.450949</td>\n",
       "    </tr>\n",
       "    <tr>\n",
       "      <th>Al added (kg) at LF</th>\n",
       "      <td>-0.450949</td>\n",
       "      <td>1.000000</td>\n",
       "    </tr>\n",
       "  </tbody>\n",
       "</table>\n",
       "</div>"
      ],
      "text/plain": [
       "                     % C after tapping  Al added (kg) at LF\n",
       "% C after tapping             1.000000            -0.450949\n",
       "Al added (kg) at LF          -0.450949             1.000000"
      ]
     },
     "execution_count": 14,
     "metadata": {},
     "output_type": "execute_result"
    }
   ],
   "source": [
    "df[[\"% C after tapping\", \"Al added (kg) at LF\"]].corr()"
   ]
  },
  {
   "cell_type": "code",
   "execution_count": 15,
   "metadata": {},
   "outputs": [
    {
     "data": {
      "text/plain": [
       "(0.0, 152.95113273325526)"
      ]
     },
     "execution_count": 15,
     "metadata": {},
     "output_type": "execute_result"
    },
    {
     "data": {
      "image/png": "[encoded data removed]",
      "text/plain": [
       "<Figure size 432x288 with 1 Axes>"
      ]
     },
     "metadata": {
      "needs_background": "light"
     },
     "output_type": "display_data"
    }
   ],
   "source": [
    "# C added (kg) at LF as potential predictor variable of Al wire added at LF\n",
    "sns.regplot(x=\"C added (kg) at LF\", y=\"Al added (kg) at LF\", data=df)\n",
    "plt.ylim(0,)"
   ]
  },
  {
   "cell_type": "code",
   "execution_count": 16,
   "metadata": {},
   "outputs": [
    {
     "data": {
      "text/html": [
       "<div>\n",
       "<style scoped>\n",
       "    .dataframe tbody tr th:only-of-type {\n",
       "        vertical-align: middle;\n",
       "    }\n",
       "\n",
       "    .dataframe tbody tr th {\n",
       "        vertical-align: top;\n",
       "    }\n",
       "\n",
       "    .dataframe thead th {\n",
       "        text-align: right;\n",
       "    }\n",
       "</style>\n",
       "<table border=\"1\" class=\"dataframe\">\n",
       "  <thead>\n",
       "    <tr style=\"text-align: right;\">\n",
       "      <th></th>\n",
       "      <th>C added (kg) at LF</th>\n",
       "      <th>Al added (kg) at LF</th>\n",
       "    </tr>\n",
       "  </thead>\n",
       "  <tbody>\n",
       "    <tr>\n",
       "      <th>C added (kg) at LF</th>\n",
       "      <td>1.000000</td>\n",
       "      <td>0.437884</td>\n",
       "    </tr>\n",
       "    <tr>\n",
       "      <th>Al added (kg) at LF</th>\n",
       "      <td>0.437884</td>\n",
       "      <td>1.000000</td>\n",
       "    </tr>\n",
       "  </tbody>\n",
       "</table>\n",
       "</div>"
      ],
      "text/plain": [
       "                     C added (kg) at LF  Al added (kg) at LF\n",
       "C added (kg) at LF             1.000000             0.437884\n",
       "Al added (kg) at LF            0.437884             1.000000"
      ]
     },
     "execution_count": 16,
     "metadata": {},
     "output_type": "execute_result"
    }
   ],
   "source": [
    "df[[\"C added (kg) at LF\", \"Al added (kg) at LF\"]].corr()"
   ]
  },
  {
   "cell_type": "code",
   "execution_count": 17,
   "metadata": {},
   "outputs": [
    {
     "data": {
      "text/plain": [
       "(0.0, 156.9431016057962)"
      ]
     },
     "execution_count": 17,
     "metadata": {},
     "output_type": "execute_result"
    },
    {
     "data": {
      "image/png": "[encoded data removed]",
      "text/plain": [
       "<Figure size 432x288 with 1 Axes>"
      ]
     },
     "metadata": {
      "needs_background": "light"
     },
     "output_type": "display_data"
    }
   ],
   "source": [
    "# % AL_L after tapping as potential predictor variable of Al wire added at LF\n",
    "sns.regplot(x=\"% AL_L after tapping\", y=\"Al added (kg) at LF\", data=df)\n",
    "plt.ylim(0,)"
   ]
  },
  {
   "cell_type": "code",
   "execution_count": 18,
   "metadata": {},
   "outputs": [
    {
     "data": {
      "text/html": [
       "<div>\n",
       "<style scoped>\n",
       "    .dataframe tbody tr th:only-of-type {\n",
       "        vertical-align: middle;\n",
       "    }\n",
       "\n",
       "    .dataframe tbody tr th {\n",
       "        vertical-align: top;\n",
       "    }\n",
       "\n",
       "    .dataframe thead th {\n",
       "        text-align: right;\n",
       "    }\n",
       "</style>\n",
       "<table border=\"1\" class=\"dataframe\">\n",
       "  <thead>\n",
       "    <tr style=\"text-align: right;\">\n",
       "      <th></th>\n",
       "      <th>% AL_L after tapping</th>\n",
       "      <th>Al added (kg) at LF</th>\n",
       "    </tr>\n",
       "  </thead>\n",
       "  <tbody>\n",
       "    <tr>\n",
       "      <th>% AL_L after tapping</th>\n",
       "      <td>1.000000</td>\n",
       "      <td>-0.762616</td>\n",
       "    </tr>\n",
       "    <tr>\n",
       "      <th>Al added (kg) at LF</th>\n",
       "      <td>-0.762616</td>\n",
       "      <td>1.000000</td>\n",
       "    </tr>\n",
       "  </tbody>\n",
       "</table>\n",
       "</div>"
      ],
      "text/plain": [
       "                      % AL_L after tapping  Al added (kg) at LF\n",
       "% AL_L after tapping              1.000000            -0.762616\n",
       "Al added (kg) at LF              -0.762616             1.000000"
      ]
     },
     "execution_count": 18,
     "metadata": {},
     "output_type": "execute_result"
    }
   ],
   "source": [
    "df[[\"% AL_L after tapping\", \"Al added (kg) at LF\"]].corr()"
   ]
  },
  {
   "cell_type": "code",
   "execution_count": 19,
   "metadata": {},
   "outputs": [
    {
     "data": {
      "text/plain": [
       "(0.0, 152.52613314286796)"
      ]
     },
     "execution_count": 19,
     "metadata": {},
     "output_type": "execute_result"
    },
    {
     "data": {
      "image/png": "[encoded data removed]",
      "text/plain": [
       "<Figure size 432x288 with 1 Axes>"
      ]
     },
     "metadata": {
      "needs_background": "light"
     },
     "output_type": "display_data"
    }
   ],
   "source": [
    "# % C before tapping as potential predictor variable of Al wire added at LF\n",
    "sns.regplot(x=\"% C before tapping\", y=\"Al added (kg) at LF\", data=df)\n",
    "plt.ylim(0,)"
   ]
  },
  {
   "cell_type": "code",
   "execution_count": 20,
   "metadata": {},
   "outputs": [
    {
     "data": {
      "text/html": [
       "<div>\n",
       "<style scoped>\n",
       "    .dataframe tbody tr th:only-of-type {\n",
       "        vertical-align: middle;\n",
       "    }\n",
       "\n",
       "    .dataframe tbody tr th {\n",
       "        vertical-align: top;\n",
       "    }\n",
       "\n",
       "    .dataframe thead th {\n",
       "        text-align: right;\n",
       "    }\n",
       "</style>\n",
       "<table border=\"1\" class=\"dataframe\">\n",
       "  <thead>\n",
       "    <tr style=\"text-align: right;\">\n",
       "      <th></th>\n",
       "      <th>% C before tapping</th>\n",
       "      <th>Al added (kg) at LF</th>\n",
       "    </tr>\n",
       "  </thead>\n",
       "  <tbody>\n",
       "    <tr>\n",
       "      <th>% C before tapping</th>\n",
       "      <td>1.000000</td>\n",
       "      <td>-0.256593</td>\n",
       "    </tr>\n",
       "    <tr>\n",
       "      <th>Al added (kg) at LF</th>\n",
       "      <td>-0.256593</td>\n",
       "      <td>1.000000</td>\n",
       "    </tr>\n",
       "  </tbody>\n",
       "</table>\n",
       "</div>"
      ],
      "text/plain": [
       "                     % C before tapping  Al added (kg) at LF\n",
       "% C before tapping             1.000000            -0.256593\n",
       "Al added (kg) at LF           -0.256593             1.000000"
      ]
     },
     "execution_count": 20,
     "metadata": {},
     "output_type": "execute_result"
    }
   ],
   "source": [
    "df[[\"% C before tapping\", \"Al added (kg) at LF\"]].corr()"
   ]
  },
  {
   "cell_type": "code",
   "execution_count": 21,
   "metadata": {},
   "outputs": [
    {
     "data": {
      "text/plain": [
       "(0.0, 152.3942542670966)"
      ]
     },
     "execution_count": 21,
     "metadata": {},
     "output_type": "execute_result"
    },
    {
     "data": {
      "image/png": "[encoded data removed]",
      "text/plain": [
       "<Figure size 432x288 with 1 Axes>"
      ]
     },
     "metadata": {
      "needs_background": "light"
     },
     "output_type": "display_data"
    }
   ],
   "source": [
    "# % AL_L before tapping as potential predictor variable of Al wire added at LF\n",
    "sns.regplot(x=\"% AL_L before tapping\", y=\"Al added (kg) at LF\", data=df)\n",
    "plt.ylim(0,)"
   ]
  },
  {
   "cell_type": "code",
   "execution_count": 22,
   "metadata": {},
   "outputs": [
    {
     "data": {
      "text/html": [
       "<div>\n",
       "<style scoped>\n",
       "    .dataframe tbody tr th:only-of-type {\n",
       "        vertical-align: middle;\n",
       "    }\n",
       "\n",
       "    .dataframe tbody tr th {\n",
       "        vertical-align: top;\n",
       "    }\n",
       "\n",
       "    .dataframe thead th {\n",
       "        text-align: right;\n",
       "    }\n",
       "</style>\n",
       "<table border=\"1\" class=\"dataframe\">\n",
       "  <thead>\n",
       "    <tr style=\"text-align: right;\">\n",
       "      <th></th>\n",
       "      <th>% AL_L before tapping</th>\n",
       "      <th>Al added (kg) at LF</th>\n",
       "    </tr>\n",
       "  </thead>\n",
       "  <tbody>\n",
       "    <tr>\n",
       "      <th>% AL_L before tapping</th>\n",
       "      <td>1.000000</td>\n",
       "      <td>-0.138001</td>\n",
       "    </tr>\n",
       "    <tr>\n",
       "      <th>Al added (kg) at LF</th>\n",
       "      <td>-0.138001</td>\n",
       "      <td>1.000000</td>\n",
       "    </tr>\n",
       "  </tbody>\n",
       "</table>\n",
       "</div>"
      ],
      "text/plain": [
       "                       % AL_L before tapping  Al added (kg) at LF\n",
       "% AL_L before tapping               1.000000            -0.138001\n",
       "Al added (kg) at LF                -0.138001             1.000000"
      ]
     },
     "execution_count": 22,
     "metadata": {},
     "output_type": "execute_result"
    }
   ],
   "source": [
    "df[[\"% AL_L before tapping\", \"Al added (kg) at LF\"]].corr()"
   ]
  },
  {
   "cell_type": "code",
   "execution_count": 23,
   "metadata": {},
   "outputs": [
    {
     "data": {
      "text/plain": [
       "(0.0, 152.1)"
      ]
     },
     "execution_count": 23,
     "metadata": {},
     "output_type": "execute_result"
    },
    {
     "data": {
      "image/png": "[encoded data removed]",
      "text/plain": [
       "<Figure size 432x288 with 1 Axes>"
      ]
     },
     "metadata": {
      "needs_background": "light"
     },
     "output_type": "display_data"
    }
   ],
   "source": [
    "# % AL_L after degassing as potential predictor variable of Al wire added at LF\n",
    "sns.regplot(x=\"% AL_L after degassing\", y=\"Al added (kg) at LF\", data=df)\n",
    "plt.ylim(0,)"
   ]
  },
  {
   "cell_type": "code",
   "execution_count": 24,
   "metadata": {},
   "outputs": [
    {
     "data": {
      "text/html": [
       "<div>\n",
       "<style scoped>\n",
       "    .dataframe tbody tr th:only-of-type {\n",
       "        vertical-align: middle;\n",
       "    }\n",
       "\n",
       "    .dataframe tbody tr th {\n",
       "        vertical-align: top;\n",
       "    }\n",
       "\n",
       "    .dataframe thead th {\n",
       "        text-align: right;\n",
       "    }\n",
       "</style>\n",
       "<table border=\"1\" class=\"dataframe\">\n",
       "  <thead>\n",
       "    <tr style=\"text-align: right;\">\n",
       "      <th></th>\n",
       "      <th>% AL_L after degassing</th>\n",
       "      <th>Al added (kg) at LF</th>\n",
       "    </tr>\n",
       "  </thead>\n",
       "  <tbody>\n",
       "    <tr>\n",
       "      <th>% AL_L after degassing</th>\n",
       "      <td>1.000000</td>\n",
       "      <td>-0.123437</td>\n",
       "    </tr>\n",
       "    <tr>\n",
       "      <th>Al added (kg) at LF</th>\n",
       "      <td>-0.123437</td>\n",
       "      <td>1.000000</td>\n",
       "    </tr>\n",
       "  </tbody>\n",
       "</table>\n",
       "</div>"
      ],
      "text/plain": [
       "                        % AL_L after degassing  Al added (kg) at LF\n",
       "% AL_L after degassing                1.000000            -0.123437\n",
       "Al added (kg) at LF                  -0.123437             1.000000"
      ]
     },
     "execution_count": 24,
     "metadata": {},
     "output_type": "execute_result"
    }
   ],
   "source": [
    "df[[\"% AL_L after degassing\", \"Al added (kg) at LF\"]].corr()"
   ]
  },
  {
   "cell_type": "code",
   "execution_count": 25,
   "metadata": {},
   "outputs": [
    {
     "data": {
      "text/plain": [
       "(0.0, 152.1)"
      ]
     },
     "execution_count": 25,
     "metadata": {},
     "output_type": "execute_result"
    },
    {
     "data": {
      "image/png": "[encoded data removed]",
      "text/plain": [
       "<Figure size 432x288 with 1 Axes>"
      ]
     },
     "metadata": {
      "needs_background": "light"
     },
     "output_type": "display_data"
    }
   ],
   "source": [
    "# Diff % Al before tapping as potential predictor variable of Al wire added at LF\n",
    "sns.regplot(x=\"Diff % Al before tapping\", y=\"Al added (kg) at LF\", data=df)\n",
    "plt.ylim(0,)"
   ]
  },
  {
   "cell_type": "code",
   "execution_count": 26,
   "metadata": {},
   "outputs": [
    {
     "data": {
      "text/html": [
       "<div>\n",
       "<style scoped>\n",
       "    .dataframe tbody tr th:only-of-type {\n",
       "        vertical-align: middle;\n",
       "    }\n",
       "\n",
       "    .dataframe tbody tr th {\n",
       "        vertical-align: top;\n",
       "    }\n",
       "\n",
       "    .dataframe thead th {\n",
       "        text-align: right;\n",
       "    }\n",
       "</style>\n",
       "<table border=\"1\" class=\"dataframe\">\n",
       "  <thead>\n",
       "    <tr style=\"text-align: right;\">\n",
       "      <th></th>\n",
       "      <th>Diff % Al before tapping</th>\n",
       "      <th>Al added (kg) at LF</th>\n",
       "    </tr>\n",
       "  </thead>\n",
       "  <tbody>\n",
       "    <tr>\n",
       "      <th>Diff % Al before tapping</th>\n",
       "      <td>1.000000</td>\n",
       "      <td>0.158837</td>\n",
       "    </tr>\n",
       "    <tr>\n",
       "      <th>Al added (kg) at LF</th>\n",
       "      <td>0.158837</td>\n",
       "      <td>1.000000</td>\n",
       "    </tr>\n",
       "  </tbody>\n",
       "</table>\n",
       "</div>"
      ],
      "text/plain": [
       "                          Diff % Al before tapping  Al added (kg) at LF\n",
       "Diff % Al before tapping                  1.000000             0.158837\n",
       "Al added (kg) at LF                       0.158837             1.000000"
      ]
     },
     "execution_count": 26,
     "metadata": {},
     "output_type": "execute_result"
    }
   ],
   "source": [
    "df[[\"Diff % Al before tapping\", \"Al added (kg) at LF\"]].corr()"
   ]
  },
  {
   "cell_type": "code",
   "execution_count": 27,
   "metadata": {},
   "outputs": [],
   "source": [
    "from scipy import stats"
   ]
  },
  {
   "cell_type": "code",
   "execution_count": 28,
   "metadata": {},
   "outputs": [
    {
     "name": "stdout",
     "output_type": "stream",
     "text": [
      "The Pearson Correlation Coefficient is 0.29775518087276026  with a P-value of P = 3.2855715744818857e-19\n"
     ]
    }
   ],
   "source": [
    "pearson_coef, p_value = stats.pearsonr(df['Slag wt (kg)'], df['Al added (kg) at LF'])\n",
    "print(\"The Pearson Correlation Coefficient is\", pearson_coef, \" with a P-value of P =\", p_value) "
   ]
  },
  {
   "cell_type": "code",
   "execution_count": 29,
   "metadata": {},
   "outputs": [
    {
     "name": "stdout",
     "output_type": "stream",
     "text": [
      "The Pearson Correlation Coefficient is -0.4509490688254188  with a P-value of P = 1.18649118831747e-44\n"
     ]
    }
   ],
   "source": [
    "pearson_coef, p_value = stats.pearsonr(df['% C after tapping'], df['Al added (kg) at LF'])\n",
    "print(\"The Pearson Correlation Coefficient is\", pearson_coef, \" with a P-value of P =\", p_value) "
   ]
  },
  {
   "cell_type": "code",
   "execution_count": 30,
   "metadata": {},
   "outputs": [
    {
     "name": "stdout",
     "output_type": "stream",
     "text": [
      "The Pearson Correlation Coefficient is 0.43788379920216325  with a P-value of P = 6.385423753749315e-42\n"
     ]
    }
   ],
   "source": [
    "pearson_coef, p_value = stats.pearsonr(df['C added (kg) at LF'], df['Al added (kg) at LF'])\n",
    "print(\"The Pearson Correlation Coefficient is\", pearson_coef, \" with a P-value of P =\", p_value)  "
   ]
  },
  {
   "cell_type": "code",
   "execution_count": 31,
   "metadata": {},
   "outputs": [
    {
     "name": "stdout",
     "output_type": "stream",
     "text": [
      "The Pearson Correlation Coefficient is -0.7626164733549711  with a P-value of P = 7.875436852408664e-166\n"
     ]
    }
   ],
   "source": [
    "pearson_coef, p_value = stats.pearsonr(df['% AL_L after tapping'], df['Al added (kg) at LF'])\n",
    "print(\"The Pearson Correlation Coefficient is\", pearson_coef, \" with a P-value of P =\", p_value)  "
   ]
  },
  {
   "cell_type": "code",
   "execution_count": 32,
   "metadata": {},
   "outputs": [
    {
     "name": "stdout",
     "output_type": "stream",
     "text": [
      "The Pearson Correlation Coefficient is 0.15883675567703143  with a P-value of P = 2.6010073136013764e-06\n"
     ]
    }
   ],
   "source": [
    "pearson_coef, p_value = stats.pearsonr(df['Diff % Al before tapping'], df['Al added (kg) at LF'])\n",
    "print(\"The Pearson Correlation Coefficient is\", pearson_coef, \" with a P-value of P =\", p_value) "
   ]
  },
  {
   "cell_type": "code",
   "execution_count": 33,
   "metadata": {},
   "outputs": [
    {
     "name": "stdout",
     "output_type": "stream",
     "text": [
      "The Pearson Correlation Coefficient is -0.25659289724615636  with a P-value of P = 1.676636398249867e-14\n"
     ]
    }
   ],
   "source": [
    "pearson_coef, p_value = stats.pearsonr(df['% C before tapping'], df['Al added (kg) at LF'])\n",
    "print(\"The Pearson Correlation Coefficient is\", pearson_coef, \" with a P-value of P =\", p_value)  "
   ]
  },
  {
   "cell_type": "code",
   "execution_count": 34,
   "metadata": {},
   "outputs": [
    {
     "name": "stdout",
     "output_type": "stream",
     "text": [
      "The Pearson Correlation Coefficient is -0.13800077451319803  with a P-value of P = 4.560605028267749e-05\n"
     ]
    }
   ],
   "source": [
    "pearson_coef, p_value = stats.pearsonr(df['% AL_L before tapping'], df['Al added (kg) at LF'])\n",
    "print(\"The Pearson Correlation Coefficient is\", pearson_coef, \" with a P-value of P =\", p_value)  "
   ]
  },
  {
   "cell_type": "code",
   "execution_count": 35,
   "metadata": {},
   "outputs": [
    {
     "name": "stdout",
     "output_type": "stream",
     "text": [
      "The Pearson Correlation Coefficient is -0.1234372275803316  with a P-value of P = 0.00026917508478367257\n"
     ]
    }
   ],
   "source": [
    "pearson_coef, p_value = stats.pearsonr(df['% AL_L after degassing'], df['Al added (kg) at LF'])\n",
    "print(\"The Pearson Correlation Coefficient is\", pearson_coef, \" with a P-value of P =\", p_value) "
   ]
  },
  {
   "cell_type": "code",
   "execution_count": 36,
   "metadata": {},
   "outputs": [],
   "source": [
    "from sklearn.linear_model import LinearRegression"
   ]
  },
  {
   "cell_type": "code",
   "execution_count": 37,
   "metadata": {},
   "outputs": [
    {
     "data": {
      "text/plain": [
       "LinearRegression()"
      ]
     },
     "execution_count": 37,
     "metadata": {},
     "output_type": "execute_result"
    }
   ],
   "source": [
    "lm = LinearRegression()\n",
    "lm"
   ]
  },
  {
   "cell_type": "code",
   "execution_count": 38,
   "metadata": {},
   "outputs": [],
   "source": [
    "# Simple linear regression model\n",
    "X = df[['% AL_L after tapping']]\n",
    "Y = df[['Al added (kg) at LF']]"
   ]
  },
  {
   "cell_type": "code",
   "execution_count": 39,
   "metadata": {},
   "outputs": [
    {
     "data": {
      "text/plain": [
       "LinearRegression()"
      ]
     },
     "execution_count": 39,
     "metadata": {},
     "output_type": "execute_result"
    }
   ],
   "source": [
    "lm.fit(X,Y)"
   ]
  },
  {
   "cell_type": "code",
   "execution_count": 40,
   "metadata": {},
   "outputs": [
    {
     "data": {
      "text/plain": [
       "array([[18.75638079],\n",
       "       [31.76045352],\n",
       "       [28.50943534],\n",
       "       [64.27063534],\n",
       "       [74.02368988]])"
      ]
     },
     "execution_count": 40,
     "metadata": {},
     "output_type": "execute_result"
    }
   ],
   "source": [
    "Yhat=lm.predict(X)\n",
    "Yhat[0:5]"
   ]
  },
  {
   "cell_type": "code",
   "execution_count": 41,
   "metadata": {},
   "outputs": [
    {
     "data": {
      "text/plain": [
       "array([76.19103534])"
      ]
     },
     "execution_count": 41,
     "metadata": {},
     "output_type": "execute_result"
    }
   ],
   "source": [
    "lm.intercept_"
   ]
  },
  {
   "cell_type": "code",
   "execution_count": 42,
   "metadata": {},
   "outputs": [
    {
     "data": {
      "text/plain": [
       "array([[-1083.67272725]])"
      ]
     },
     "execution_count": 42,
     "metadata": {},
     "output_type": "execute_result"
    }
   ],
   "source": [
    "lm.coef_"
   ]
  },
  {
   "cell_type": "code",
   "execution_count": 43,
   "metadata": {},
   "outputs": [],
   "source": [
    "# import visualisation package: seaborn\n",
    "import seaborn as sns\n",
    "%matplotlib inline"
   ]
  },
  {
   "cell_type": "code",
   "execution_count": 44,
   "metadata": {},
   "outputs": [
    {
     "data": {
      "text/plain": [
       "(0.0, 156.97062059084303)"
      ]
     },
     "execution_count": 44,
     "metadata": {},
     "output_type": "execute_result"
    },
    {
     "data": {
      "image/png": "[encoded data removed]",
      "text/plain": [
       "<Figure size 720x576 with 1 Axes>"
      ]
     },
     "metadata": {
      "needs_background": "light"
     },
     "output_type": "display_data"
    }
   ],
   "source": [
    "# Regression plot for simple linear regression model\n",
    "width = 10\n",
    "height = 8\n",
    "plt.figure(figsize=(width, height))\n",
    "sns.regplot(x='% AL_L after tapping', y='Al added (kg) at LF', data=df)\n",
    "plt.ylim(0,)"
   ]
  },
  {
   "cell_type": "code",
   "execution_count": 45,
   "metadata": {},
   "outputs": [
    {
     "name": "stderr",
     "output_type": "stream",
     "text": [
      "C:\\Users\\Boeing\\anaconda3new\\lib\\site-packages\\seaborn\\_decorators.py:36: FutureWarning: Pass the following variables as keyword args: x, y. From version 0.12, the only valid positional argument will be `data`, and passing other arguments without an explicit keyword will result in an error or misinterpretation.\n",
      "  warnings.warn(\n"
     ]
    },
    {
     "data": {
      "image/png": "[encoded data removed]",
      "text/plain": [
       "<Figure size 720x576 with 1 Axes>"
      ]
     },
     "metadata": {
      "needs_background": "light"
     },
     "output_type": "display_data"
    }
   ],
   "source": [
    "# Residual plot for simple linear regression model\n",
    "width = 10\n",
    "height = 8\n",
    "plt.figure(figsize=(width, height))\n",
    "sns.residplot(df['% AL_L after tapping'], df['Al added (kg) at LF'])\n",
    "plt.show()"
   ]
  },
  {
   "cell_type": "code",
   "execution_count": 46,
   "metadata": {},
   "outputs": [],
   "source": [
    "# Multiple linear regression model\n",
    "Z = df[['Slag wt (kg)', '% C after tapping', 'C added (kg) at LF', '% AL_L after tapping', 'Diff % Al before tapping', '% C before tapping', '% AL_L before tapping', '% AL_L after degassing']]"
   ]
  },
  {
   "cell_type": "code",
   "execution_count": 47,
   "metadata": {},
   "outputs": [
    {
     "data": {
      "text/plain": [
       "LinearRegression()"
      ]
     },
     "execution_count": 47,
     "metadata": {},
     "output_type": "execute_result"
    }
   ],
   "source": [
    "lm.fit(Z, df['Al added (kg) at LF'])"
   ]
  },
  {
   "cell_type": "code",
   "execution_count": 48,
   "metadata": {},
   "outputs": [
    {
     "data": {
      "text/plain": [
       "30.45457142069816"
      ]
     },
     "execution_count": 48,
     "metadata": {},
     "output_type": "execute_result"
    }
   ],
   "source": [
    "lm.intercept_"
   ]
  },
  {
   "cell_type": "code",
   "execution_count": 49,
   "metadata": {},
   "outputs": [
    {
     "data": {
      "text/plain": [
       "array([ 2.37246941e-02,  6.65441529e+00,  4.43841826e-02, -9.81407284e+02,\n",
       "        8.56314077e-02, -5.05356038e-01, -8.19029548e+00, -1.74673168e+02])"
      ]
     },
     "execution_count": 49,
     "metadata": {},
     "output_type": "execute_result"
    }
   ],
   "source": [
    "lm.coef_"
   ]
  },
  {
   "cell_type": "code",
   "execution_count": 50,
   "metadata": {},
   "outputs": [],
   "source": [
    "Y_hat = lm.predict(Z)"
   ]
  },
  {
   "cell_type": "code",
   "execution_count": 51,
   "metadata": {},
   "outputs": [
    {
     "name": "stderr",
     "output_type": "stream",
     "text": [
      "C:\\Users\\Boeing\\anaconda3new\\lib\\site-packages\\seaborn\\distributions.py:2551: FutureWarning: `distplot` is a deprecated function and will be removed in a future version. Please adapt your code to use either `displot` (a figure-level function with similar flexibility) or `kdeplot` (an axes-level function for kernel density plots).\n",
      "  warnings.warn(msg, FutureWarning)\n",
      "C:\\Users\\Boeing\\anaconda3new\\lib\\site-packages\\seaborn\\distributions.py:2551: FutureWarning: `distplot` is a deprecated function and will be removed in a future version. Please adapt your code to use either `displot` (a figure-level function with similar flexibility) or `kdeplot` (an axes-level function for kernel density plots).\n",
      "  warnings.warn(msg, FutureWarning)\n"
     ]
    },
    {
     "data": {
      "image/png": "[encoded data removed]",
      "text/plain": [
       "<Figure size 720x576 with 1 Axes>"
      ]
     },
     "metadata": {
      "needs_background": "light"
     },
     "output_type": "display_data"
    }
   ],
   "source": [
    "# Distribution plot for multiple linear regression model\n",
    "plt.figure(figsize=(width, height))\n",
    "\n",
    "ax1 = sns.distplot(df['Al added (kg) at LF'], hist=False, color=\"r\", label=\"Actual Value\")\n",
    "sns.distplot(Y_hat, hist=False, color=\"b\", label=\"Fitted Values\", ax=ax1)\n",
    "\n",
    "plt.title('Actual v/s Fitted Values for Al added (kg) at LF')\n",
    "plt.xlabel('Al added (kg) for secondary de-oxidation')\n",
    "plt.ylabel('Distribution of Al addition for secondary de-oxidation')\n",
    "\n",
    "plt.legend()\n",
    "plt.show()\n",
    "plt.close()"
   ]
  },
  {
   "cell_type": "code",
   "execution_count": 52,
   "metadata": {},
   "outputs": [
    {
     "name": "stdout",
     "output_type": "stream",
     "text": [
      "The R-square is:  0.5815838854323733\n"
     ]
    }
   ],
   "source": [
    "# For Model 1: Simple regression model\n",
    "\n",
    "# % AL_L after tapping_fit\n",
    "lm.fit(X, Y)\n",
    "\n",
    "# Find the R^2 for simple regression model\n",
    "print('The R-square is: ', lm.score(X, Y))"
   ]
  },
  {
   "cell_type": "code",
   "execution_count": 53,
   "metadata": {},
   "outputs": [
    {
     "name": "stdout",
     "output_type": "stream",
     "text": [
      "The output of the first five predicted values is:  [[18.75638079]\n",
      " [31.76045352]\n",
      " [28.50943534]\n",
      " [64.27063534]\n",
      " [74.02368988]]\n"
     ]
    }
   ],
   "source": [
    "Yhat=lm.predict(X)\n",
    "print('The output of the first five predicted values is: ', Yhat[0:5])"
   ]
  },
  {
   "cell_type": "code",
   "execution_count": 54,
   "metadata": {},
   "outputs": [],
   "source": [
    "from sklearn.metrics import mean_squared_error"
   ]
  },
  {
   "cell_type": "code",
   "execution_count": 55,
   "metadata": {},
   "outputs": [
    {
     "name": "stdout",
     "output_type": "stream",
     "text": [
      "The mean square error of Al added (kg) at LF and predicted value is:  222.7063887253923\n"
     ]
    }
   ],
   "source": [
    "# Find MSE for simple regression model\n",
    "mse = mean_squared_error(df['Al added (kg) at LF'], Yhat)\n",
    "print('The mean square error of Al added (kg) at LF and predicted value is: ', mse)"
   ]
  },
  {
   "cell_type": "code",
   "execution_count": 56,
   "metadata": {},
   "outputs": [
    {
     "name": "stdout",
     "output_type": "stream",
     "text": [
      "The R-square is:  0.660231573146212\n"
     ]
    }
   ],
   "source": [
    "# For Model 2: Multiple linear regression model\n",
    "\n",
    "# Fit the model\n",
    "lm.fit(Z, df['Al added (kg) at LF'])\n",
    "\n",
    "# Find the R^2\n",
    "print('The R-square is: ', lm.score(Z, df['Al added (kg) at LF']))"
   ]
  },
  {
   "cell_type": "code",
   "execution_count": 57,
   "metadata": {},
   "outputs": [],
   "source": [
    "# Calculate the MSE for Multiple linear regression model\n",
    "\n",
    "Y_predict_multifit = lm.predict(Z)"
   ]
  },
  {
   "cell_type": "code",
   "execution_count": 58,
   "metadata": {},
   "outputs": [
    {
     "name": "stdout",
     "output_type": "stream",
     "text": [
      "The mean square error of Al added (kg) at LF and predicted value using multifit is:  180.84532768463617\n"
     ]
    }
   ],
   "source": [
    "print('The mean square error of Al added (kg) at LF and predicted value using multifit is: ', \\\n",
    "     mean_squared_error(df['Al added (kg) at LF'], Y_predict_multifit))"
   ]
  },
  {
   "cell_type": "code",
   "execution_count": 59,
   "metadata": {},
   "outputs": [],
   "source": [
    "import pandas as pd\n",
    "import numpy as np\n",
    "import matplotlib.pyplot as plt"
   ]
  },
  {
   "cell_type": "code",
   "execution_count": 60,
   "metadata": {},
   "outputs": [],
   "source": [
    "# Polynomial regression and pipelines\n",
    "\n",
    "# Function to plot the data\n",
    "def PlotPolly(model, independent_variable, dependent_variable, Name):\n",
    "    x_new = np.linspace(0, 0.144, 100)\n",
    "    y_new = model(x_new)\n",
    "    \n",
    "    plt.plot(independent_variable, dependent_variable, '.', x_new, y_new, '_', '%')\n",
    "    plt.title('Polynomial fit with Matplotlib for Al addition for secondary de-oxidation')\n",
    "    ax = plt.gca()\n",
    "    ax.set_facecolor((1, 1, 1))\n",
    "    fig = plt.gcf()\n",
    "    plt.xlabel(Name)\n",
    "    plt.ylabel('Al added (kg) at LF')\n",
    "    \n",
    "    plt.show()\n",
    "    plt.close()"
   ]
  },
  {
   "cell_type": "code",
   "execution_count": 61,
   "metadata": {},
   "outputs": [],
   "source": [
    "x = df['% AL_L after tapping']\n",
    "y = df['Al added (kg) at LF']"
   ]
  },
  {
   "cell_type": "code",
   "execution_count": 62,
   "metadata": {},
   "outputs": [
    {
     "name": "stdout",
     "output_type": "stream",
     "text": [
      "            3             2\n",
      "-2.768e+04 x + 1.969e+04 x - 2456 x + 97.05\n"
     ]
    }
   ],
   "source": [
    "# Here we use a cubic/3rd order polynomial\n",
    "\n",
    "f = np.polyfit(x, y, 3)\n",
    "p = np.poly1d(f)\n",
    "print(p)"
   ]
  },
  {
   "cell_type": "code",
   "execution_count": 63,
   "metadata": {},
   "outputs": [
    {
     "data": {
      "image/png": "[encoded data removed]",
      "text/plain": [
       "<Figure size 432x288 with 1 Axes>"
      ]
     },
     "metadata": {
      "needs_background": "light"
     },
     "output_type": "display_data"
    }
   ],
   "source": [
    "# Plotting the cubic polynomial\n",
    "\n",
    "PlotPolly(p, x, y, '% AL_L after tapping')"
   ]
  },
  {
   "cell_type": "code",
   "execution_count": 64,
   "metadata": {},
   "outputs": [],
   "source": [
    "# np.ployfit(x, y, 3)"
   ]
  },
  {
   "cell_type": "code",
   "execution_count": null,
   "metadata": {},
   "outputs": [],
   "source": []
  }
 ],
 "metadata": {
  "kernelspec": {
   "display_name": "Python 3",
   "language": "python",
   "name": "python3"
  },
  "language_info": {
   "codemirror_mode": {
    "name": "ipython",
    "version": 3
   },
   "file_extension": ".py",
   "mimetype": "text/x-python",
   "name": "python",
   "nbconvert_exporter": "python",
   "pygments_lexer": "ipython3",
   "version": "3.8.5"
  }
 },
 "nbformat": 4,
 "nbformat_minor": 4
}
